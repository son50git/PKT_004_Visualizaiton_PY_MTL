{
  "nbformat": 4,
  "nbformat_minor": 0,
  "metadata": {
    "colab": {
      "name": "PKT_004_Rework_02.ipynb",
      "provenance": [],
      "authorship_tag": "ABX9TyP4blhvb3UWLOpUwlMoSOcH",
      "include_colab_link": true
    },
    "kernelspec": {
      "name": "python3",
      "display_name": "Python 3"
    }
  },
  "cells": [
    {
      "cell_type": "markdown",
      "metadata": {
        "id": "view-in-github",
        "colab_type": "text"
      },
      "source": [
        "<a href=\"https://colab.research.google.com/github/son50git/PKT_004_Visualizaiton_PY_MTL/blob/master/PKT_004_Rework_02.ipynb\" target=\"_parent\"><img src=\"https://colab.research.google.com/assets/colab-badge.svg\" alt=\"Open In Colab\"/></a>"
      ]
    },
    {
      "cell_type": "code",
      "metadata": {
        "id": "xXmiLKYol6xp"
      },
      "source": [
        "import pandas as pd\n",
        "import numpy as np\n",
        "import matplotlib.pyplot as plt\n",
        "%matplotlib inline"
      ],
      "execution_count": 28,
      "outputs": []
    },
    {
      "cell_type": "code",
      "metadata": {
        "id": "UMQ80tFORRzZ",
        "outputId": "7eeff555-97ab-4227-ecc6-6278ca31e247",
        "colab": {
          "base_uri": "https://localhost:8080/"
        }
      },
      "source": [
        "sr = pd.Series([10, 25, 3, 11, 24, 6])\n",
        "index_ = ['Coca Cola', 'Sprite', 'Coke', 'Fanta', 'Dew', 'ThumbsUp']\n",
        "sr.index = index_\n",
        "print(sr)\n",
        "result = sr.rolling(2).sum()\n",
        "print(result)\n",
        "\n",
        "result = sr.rolling(2, min_periods=1).sum()\n",
        "print(result)"
      ],
      "execution_count": 29,
      "outputs": [
        {
          "output_type": "stream",
          "text": [
            "Coca Cola    10\n",
            "Sprite       25\n",
            "Coke          3\n",
            "Fanta        11\n",
            "Dew          24\n",
            "ThumbsUp      6\n",
            "dtype: int64\n",
            "Coca Cola     NaN\n",
            "Sprite       35.0\n",
            "Coke         28.0\n",
            "Fanta        14.0\n",
            "Dew          35.0\n",
            "ThumbsUp     30.0\n",
            "dtype: float64\n",
            "Coca Cola    10.0\n",
            "Sprite       35.0\n",
            "Coke         28.0\n",
            "Fanta        14.0\n",
            "Dew          35.0\n",
            "ThumbsUp     30.0\n",
            "dtype: float64\n"
          ],
          "name": "stdout"
        }
      ]
    },
    {
      "cell_type": "code",
      "metadata": {
        "id": "-tEH9nsb-Ux5",
        "outputId": "7c8fda6e-1d93-4908-8a25-4326e39a902e",
        "colab": {
          "base_uri": "https://localhost:8080/"
        }
      },
      "source": [
        "from google.colab import drive, files\n",
        "drive.mount(\"/content/drive\")"
      ],
      "execution_count": 30,
      "outputs": [
        {
          "output_type": "stream",
          "text": [
            "Drive already mounted at /content/drive; to attempt to forcibly remount, call drive.mount(\"/content/drive\", force_remount=True).\n"
          ],
          "name": "stdout"
        }
      ]
    },
    {
      "cell_type": "code",
      "metadata": {
        "id": "tVn8Y6Zu-kPK",
        "outputId": "98a6b590-249f-4bc6-969d-b62fc5ee373e",
        "colab": {
          "resources": {
            "http://localhost:8080/nbextensions/google.colab/files.js": {
              "data": "Ly8gQ29weXJpZ2h0IDIwMTcgR29vZ2xlIExMQwovLwovLyBMaWNlbnNlZCB1bmRlciB0aGUgQXBhY2hlIExpY2Vuc2UsIFZlcnNpb24gMi4wICh0aGUgIkxpY2Vuc2UiKTsKLy8geW91IG1heSBub3QgdXNlIHRoaXMgZmlsZSBleGNlcHQgaW4gY29tcGxpYW5jZSB3aXRoIHRoZSBMaWNlbnNlLgovLyBZb3UgbWF5IG9idGFpbiBhIGNvcHkgb2YgdGhlIExpY2Vuc2UgYXQKLy8KLy8gICAgICBodHRwOi8vd3d3LmFwYWNoZS5vcmcvbGljZW5zZXMvTElDRU5TRS0yLjAKLy8KLy8gVW5sZXNzIHJlcXVpcmVkIGJ5IGFwcGxpY2FibGUgbGF3IG9yIGFncmVlZCB0byBpbiB3cml0aW5nLCBzb2Z0d2FyZQovLyBkaXN0cmlidXRlZCB1bmRlciB0aGUgTGljZW5zZSBpcyBkaXN0cmlidXRlZCBvbiBhbiAiQVMgSVMiIEJBU0lTLAovLyBXSVRIT1VUIFdBUlJBTlRJRVMgT1IgQ09ORElUSU9OUyBPRiBBTlkgS0lORCwgZWl0aGVyIGV4cHJlc3Mgb3IgaW1wbGllZC4KLy8gU2VlIHRoZSBMaWNlbnNlIGZvciB0aGUgc3BlY2lmaWMgbGFuZ3VhZ2UgZ292ZXJuaW5nIHBlcm1pc3Npb25zIGFuZAovLyBsaW1pdGF0aW9ucyB1bmRlciB0aGUgTGljZW5zZS4KCi8qKgogKiBAZmlsZW92ZXJ2aWV3IEhlbHBlcnMgZm9yIGdvb2dsZS5jb2xhYiBQeXRob24gbW9kdWxlLgogKi8KKGZ1bmN0aW9uKHNjb3BlKSB7CmZ1bmN0aW9uIHNwYW4odGV4dCwgc3R5bGVBdHRyaWJ1dGVzID0ge30pIHsKICBjb25zdCBlbGVtZW50ID0gZG9jdW1lbnQuY3JlYXRlRWxlbWVudCgnc3BhbicpOwogIGVsZW1lbnQudGV4dENvbnRlbnQgPSB0ZXh0OwogIGZvciAoY29uc3Qga2V5IG9mIE9iamVjdC5rZXlzKHN0eWxlQXR0cmlidXRlcykpIHsKICAgIGVsZW1lbnQuc3R5bGVba2V5XSA9IHN0eWxlQXR0cmlidXRlc1trZXldOwogIH0KICByZXR1cm4gZWxlbWVudDsKfQoKLy8gTWF4IG51bWJlciBvZiBieXRlcyB3aGljaCB3aWxsIGJlIHVwbG9hZGVkIGF0IGEgdGltZS4KY29uc3QgTUFYX1BBWUxPQURfU0laRSA9IDEwMCAqIDEwMjQ7CgpmdW5jdGlvbiBfdXBsb2FkRmlsZXMoaW5wdXRJZCwgb3V0cHV0SWQpIHsKICBjb25zdCBzdGVwcyA9IHVwbG9hZEZpbGVzU3RlcChpbnB1dElkLCBvdXRwdXRJZCk7CiAgY29uc3Qgb3V0cHV0RWxlbWVudCA9IGRvY3VtZW50LmdldEVsZW1lbnRCeUlkKG91dHB1dElkKTsKICAvLyBDYWNoZSBzdGVwcyBvbiB0aGUgb3V0cHV0RWxlbWVudCB0byBtYWtlIGl0IGF2YWlsYWJsZSBmb3IgdGhlIG5leHQgY2FsbAogIC8vIHRvIHVwbG9hZEZpbGVzQ29udGludWUgZnJvbSBQeXRob24uCiAgb3V0cHV0RWxlbWVudC5zdGVwcyA9IHN0ZXBzOwoKICByZXR1cm4gX3VwbG9hZEZpbGVzQ29udGludWUob3V0cHV0SWQpOwp9CgovLyBUaGlzIGlzIHJvdWdobHkgYW4gYXN5bmMgZ2VuZXJhdG9yIChub3Qgc3VwcG9ydGVkIGluIHRoZSBicm93c2VyIHlldCksCi8vIHdoZXJlIHRoZXJlIGFyZSBtdWx0aXBsZSBhc3luY2hyb25vdXMgc3RlcHMgYW5kIHRoZSBQeXRob24gc2lkZSBpcyBnb2luZwovLyB0byBwb2xsIGZvciBjb21wbGV0aW9uIG9mIGVhY2ggc3RlcC4KLy8gVGhpcyB1c2VzIGEgUHJvbWlzZSB0byBibG9jayB0aGUgcHl0aG9uIHNpZGUgb24gY29tcGxldGlvbiBvZiBlYWNoIHN0ZXAsCi8vIHRoZW4gcGFzc2VzIHRoZSByZXN1bHQgb2YgdGhlIHByZXZpb3VzIHN0ZXAgYXMgdGhlIGlucHV0IHRvIHRoZSBuZXh0IHN0ZXAuCmZ1bmN0aW9uIF91cGxvYWRGaWxlc0NvbnRpbnVlKG91dHB1dElkKSB7CiAgY29uc3Qgb3V0cHV0RWxlbWVudCA9IGRvY3VtZW50LmdldEVsZW1lbnRCeUlkKG91dHB1dElkKTsKICBjb25zdCBzdGVwcyA9IG91dHB1dEVsZW1lbnQuc3RlcHM7CgogIGNvbnN0IG5leHQgPSBzdGVwcy5uZXh0KG91dHB1dEVsZW1lbnQubGFzdFByb21pc2VWYWx1ZSk7CiAgcmV0dXJuIFByb21pc2UucmVzb2x2ZShuZXh0LnZhbHVlLnByb21pc2UpLnRoZW4oKHZhbHVlKSA9PiB7CiAgICAvLyBDYWNoZSB0aGUgbGFzdCBwcm9taXNlIHZhbHVlIHRvIG1ha2UgaXQgYXZhaWxhYmxlIHRvIHRoZSBuZXh0CiAgICAvLyBzdGVwIG9mIHRoZSBnZW5lcmF0b3IuCiAgICBvdXRwdXRFbGVtZW50Lmxhc3RQcm9taXNlVmFsdWUgPSB2YWx1ZTsKICAgIHJldHVybiBuZXh0LnZhbHVlLnJlc3BvbnNlOwogIH0pOwp9CgovKioKICogR2VuZXJhdG9yIGZ1bmN0aW9uIHdoaWNoIGlzIGNhbGxlZCBiZXR3ZWVuIGVhY2ggYXN5bmMgc3RlcCBvZiB0aGUgdXBsb2FkCiAqIHByb2Nlc3MuCiAqIEBwYXJhbSB7c3RyaW5nfSBpbnB1dElkIEVsZW1lbnQgSUQgb2YgdGhlIGlucHV0IGZpbGUgcGlja2VyIGVsZW1lbnQuCiAqIEBwYXJhbSB7c3RyaW5nfSBvdXRwdXRJZCBFbGVtZW50IElEIG9mIHRoZSBvdXRwdXQgZGlzcGxheS4KICogQHJldHVybiB7IUl0ZXJhYmxlPCFPYmplY3Q+fSBJdGVyYWJsZSBvZiBuZXh0IHN0ZXBzLgogKi8KZnVuY3Rpb24qIHVwbG9hZEZpbGVzU3RlcChpbnB1dElkLCBvdXRwdXRJZCkgewogIGNvbnN0IGlucHV0RWxlbWVudCA9IGRvY3VtZW50LmdldEVsZW1lbnRCeUlkKGlucHV0SWQpOwogIGlucHV0RWxlbWVudC5kaXNhYmxlZCA9IGZhbHNlOwoKICBjb25zdCBvdXRwdXRFbGVtZW50ID0gZG9jdW1lbnQuZ2V0RWxlbWVudEJ5SWQob3V0cHV0SWQpOwogIG91dHB1dEVsZW1lbnQuaW5uZXJIVE1MID0gJyc7CgogIGNvbnN0IHBpY2tlZFByb21pc2UgPSBuZXcgUHJvbWlzZSgocmVzb2x2ZSkgPT4gewogICAgaW5wdXRFbGVtZW50LmFkZEV2ZW50TGlzdGVuZXIoJ2NoYW5nZScsIChlKSA9PiB7CiAgICAgIHJlc29sdmUoZS50YXJnZXQuZmlsZXMpOwogICAgfSk7CiAgfSk7CgogIGNvbnN0IGNhbmNlbCA9IGRvY3VtZW50LmNyZWF0ZUVsZW1lbnQoJ2J1dHRvbicpOwogIGlucHV0RWxlbWVudC5wYXJlbnRFbGVtZW50LmFwcGVuZENoaWxkKGNhbmNlbCk7CiAgY2FuY2VsLnRleHRDb250ZW50ID0gJ0NhbmNlbCB1cGxvYWQnOwogIGNvbnN0IGNhbmNlbFByb21pc2UgPSBuZXcgUHJvbWlzZSgocmVzb2x2ZSkgPT4gewogICAgY2FuY2VsLm9uY2xpY2sgPSAoKSA9PiB7CiAgICAgIHJlc29sdmUobnVsbCk7CiAgICB9OwogIH0pOwoKICAvLyBXYWl0IGZvciB0aGUgdXNlciB0byBwaWNrIHRoZSBmaWxlcy4KICBjb25zdCBmaWxlcyA9IHlpZWxkIHsKICAgIHByb21pc2U6IFByb21pc2UucmFjZShbcGlja2VkUHJvbWlzZSwgY2FuY2VsUHJvbWlzZV0pLAogICAgcmVzcG9uc2U6IHsKICAgICAgYWN0aW9uOiAnc3RhcnRpbmcnLAogICAgfQogIH07CgogIGNhbmNlbC5yZW1vdmUoKTsKCiAgLy8gRGlzYWJsZSB0aGUgaW5wdXQgZWxlbWVudCBzaW5jZSBmdXJ0aGVyIHBpY2tzIGFyZSBub3QgYWxsb3dlZC4KICBpbnB1dEVsZW1lbnQuZGlzYWJsZWQgPSB0cnVlOwoKICBpZiAoIWZpbGVzKSB7CiAgICByZXR1cm4gewogICAgICByZXNwb25zZTogewogICAgICAgIGFjdGlvbjogJ2NvbXBsZXRlJywKICAgICAgfQogICAgfTsKICB9CgogIGZvciAoY29uc3QgZmlsZSBvZiBmaWxlcykgewogICAgY29uc3QgbGkgPSBkb2N1bWVudC5jcmVhdGVFbGVtZW50KCdsaScpOwogICAgbGkuYXBwZW5kKHNwYW4oZmlsZS5uYW1lLCB7Zm9udFdlaWdodDogJ2JvbGQnfSkpOwogICAgbGkuYXBwZW5kKHNwYW4oCiAgICAgICAgYCgke2ZpbGUudHlwZSB8fCAnbi9hJ30pIC0gJHtmaWxlLnNpemV9IGJ5dGVzLCBgICsKICAgICAgICBgbGFzdCBtb2RpZmllZDogJHsKICAgICAgICAgICAgZmlsZS5sYXN0TW9kaWZpZWREYXRlID8gZmlsZS5sYXN0TW9kaWZpZWREYXRlLnRvTG9jYWxlRGF0ZVN0cmluZygpIDoKICAgICAgICAgICAgICAgICAgICAgICAgICAgICAgICAgICAgJ24vYSd9IC0gYCkpOwogICAgY29uc3QgcGVyY2VudCA9IHNwYW4oJzAlIGRvbmUnKTsKICAgIGxpLmFwcGVuZENoaWxkKHBlcmNlbnQpOwoKICAgIG91dHB1dEVsZW1lbnQuYXBwZW5kQ2hpbGQobGkpOwoKICAgIGNvbnN0IGZpbGVEYXRhUHJvbWlzZSA9IG5ldyBQcm9taXNlKChyZXNvbHZlKSA9PiB7CiAgICAgIGNvbnN0IHJlYWRlciA9IG5ldyBGaWxlUmVhZGVyKCk7CiAgICAgIHJlYWRlci5vbmxvYWQgPSAoZSkgPT4gewogICAgICAgIHJlc29sdmUoZS50YXJnZXQucmVzdWx0KTsKICAgICAgfTsKICAgICAgcmVhZGVyLnJlYWRBc0FycmF5QnVmZmVyKGZpbGUpOwogICAgfSk7CiAgICAvLyBXYWl0IGZvciB0aGUgZGF0YSB0byBiZSByZWFkeS4KICAgIGxldCBmaWxlRGF0YSA9IHlpZWxkIHsKICAgICAgcHJvbWlzZTogZmlsZURhdGFQcm9taXNlLAogICAgICByZXNwb25zZTogewogICAgICAgIGFjdGlvbjogJ2NvbnRpbnVlJywKICAgICAgfQogICAgfTsKCiAgICAvLyBVc2UgYSBjaHVua2VkIHNlbmRpbmcgdG8gYXZvaWQgbWVzc2FnZSBzaXplIGxpbWl0cy4gU2VlIGIvNjIxMTU2NjAuCiAgICBsZXQgcG9zaXRpb24gPSAwOwogICAgd2hpbGUgKHBvc2l0aW9uIDwgZmlsZURhdGEuYnl0ZUxlbmd0aCkgewogICAgICBjb25zdCBsZW5ndGggPSBNYXRoLm1pbihmaWxlRGF0YS5ieXRlTGVuZ3RoIC0gcG9zaXRpb24sIE1BWF9QQVlMT0FEX1NJWkUpOwogICAgICBjb25zdCBjaHVuayA9IG5ldyBVaW50OEFycmF5KGZpbGVEYXRhLCBwb3NpdGlvbiwgbGVuZ3RoKTsKICAgICAgcG9zaXRpb24gKz0gbGVuZ3RoOwoKICAgICAgY29uc3QgYmFzZTY0ID0gYnRvYShTdHJpbmcuZnJvbUNoYXJDb2RlLmFwcGx5KG51bGwsIGNodW5rKSk7CiAgICAgIHlpZWxkIHsKICAgICAgICByZXNwb25zZTogewogICAgICAgICAgYWN0aW9uOiAnYXBwZW5kJywKICAgICAgICAgIGZpbGU6IGZpbGUubmFtZSwKICAgICAgICAgIGRhdGE6IGJhc2U2NCwKICAgICAgICB9LAogICAgICB9OwogICAgICBwZXJjZW50LnRleHRDb250ZW50ID0KICAgICAgICAgIGAke01hdGgucm91bmQoKHBvc2l0aW9uIC8gZmlsZURhdGEuYnl0ZUxlbmd0aCkgKiAxMDApfSUgZG9uZWA7CiAgICB9CiAgfQoKICAvLyBBbGwgZG9uZS4KICB5aWVsZCB7CiAgICByZXNwb25zZTogewogICAgICBhY3Rpb246ICdjb21wbGV0ZScsCiAgICB9CiAgfTsKfQoKc2NvcGUuZ29vZ2xlID0gc2NvcGUuZ29vZ2xlIHx8IHt9OwpzY29wZS5nb29nbGUuY29sYWIgPSBzY29wZS5nb29nbGUuY29sYWIgfHwge307CnNjb3BlLmdvb2dsZS5jb2xhYi5fZmlsZXMgPSB7CiAgX3VwbG9hZEZpbGVzLAogIF91cGxvYWRGaWxlc0NvbnRpbnVlLAp9Owp9KShzZWxmKTsK",
              "ok": true,
              "headers": [
                [
                  "content-type",
                  "application/javascript"
                ]
              ],
              "status": 200,
              "status_text": ""
            }
          },
          "base_uri": "https://localhost:8080/",
          "height": 72
        }
      },
      "source": [
        "uploaded = files.upload()"
      ],
      "execution_count": 31,
      "outputs": [
        {
          "output_type": "display_data",
          "data": {
            "text/html": [
              "\n",
              "     <input type=\"file\" id=\"files-8b2824c4-ddc8-4f39-b767-1355e0ad9726\" name=\"files[]\" multiple disabled\n",
              "        style=\"border:none\" />\n",
              "     <output id=\"result-8b2824c4-ddc8-4f39-b767-1355e0ad9726\">\n",
              "      Upload widget is only available when the cell has been executed in the\n",
              "      current browser session. Please rerun this cell to enable.\n",
              "      </output>\n",
              "      <script src=\"/nbextensions/google.colab/files.js\"></script> "
            ],
            "text/plain": [
              "<IPython.core.display.HTML object>"
            ]
          },
          "metadata": {
            "tags": []
          }
        },
        {
          "output_type": "stream",
          "text": [
            "Saving movie.csv to movie (1).csv\n"
          ],
          "name": "stdout"
        }
      ]
    },
    {
      "cell_type": "code",
      "metadata": {
        "id": "muGby6TNCi47",
        "outputId": "ff7dd7cb-14db-4659-c837-f50e7da8f625",
        "colab": {
          "base_uri": "https://localhost:8080/",
          "height": 530
        }
      },
      "source": [
        "movie = pd.read_csv('movie.csv')\n",
        "print(movie.shape)\n",
        "print(movie.columns)\n",
        "movie.head()"
      ],
      "execution_count": 32,
      "outputs": [
        {
          "output_type": "stream",
          "text": [
            "(4916, 28)\n",
            "Index(['color', 'director_name', 'num_critic_for_reviews', 'duration',\n",
            "       'director_facebook_likes', 'actor_3_facebook_likes', 'actor_2_name',\n",
            "       'actor_1_facebook_likes', 'gross', 'genres', 'actor_1_name',\n",
            "       'movie_title', 'num_voted_users', 'cast_total_facebook_likes',\n",
            "       'actor_3_name', 'facenumber_in_poster', 'plot_keywords',\n",
            "       'movie_imdb_link', 'num_user_for_reviews', 'language', 'country',\n",
            "       'content_rating', 'budget', 'title_year', 'actor_2_facebook_likes',\n",
            "       'imdb_score', 'aspect_ratio', 'movie_facebook_likes'],\n",
            "      dtype='object')\n"
          ],
          "name": "stdout"
        },
        {
          "output_type": "execute_result",
          "data": {
            "text/html": [
              "<div>\n",
              "<style scoped>\n",
              "    .dataframe tbody tr th:only-of-type {\n",
              "        vertical-align: middle;\n",
              "    }\n",
              "\n",
              "    .dataframe tbody tr th {\n",
              "        vertical-align: top;\n",
              "    }\n",
              "\n",
              "    .dataframe thead th {\n",
              "        text-align: right;\n",
              "    }\n",
              "</style>\n",
              "<table border=\"1\" class=\"dataframe\">\n",
              "  <thead>\n",
              "    <tr style=\"text-align: right;\">\n",
              "      <th></th>\n",
              "      <th>color</th>\n",
              "      <th>director_name</th>\n",
              "      <th>num_critic_for_reviews</th>\n",
              "      <th>duration</th>\n",
              "      <th>director_facebook_likes</th>\n",
              "      <th>actor_3_facebook_likes</th>\n",
              "      <th>actor_2_name</th>\n",
              "      <th>actor_1_facebook_likes</th>\n",
              "      <th>gross</th>\n",
              "      <th>genres</th>\n",
              "      <th>actor_1_name</th>\n",
              "      <th>movie_title</th>\n",
              "      <th>num_voted_users</th>\n",
              "      <th>cast_total_facebook_likes</th>\n",
              "      <th>actor_3_name</th>\n",
              "      <th>facenumber_in_poster</th>\n",
              "      <th>plot_keywords</th>\n",
              "      <th>movie_imdb_link</th>\n",
              "      <th>num_user_for_reviews</th>\n",
              "      <th>language</th>\n",
              "      <th>country</th>\n",
              "      <th>content_rating</th>\n",
              "      <th>budget</th>\n",
              "      <th>title_year</th>\n",
              "      <th>actor_2_facebook_likes</th>\n",
              "      <th>imdb_score</th>\n",
              "      <th>aspect_ratio</th>\n",
              "      <th>movie_facebook_likes</th>\n",
              "    </tr>\n",
              "  </thead>\n",
              "  <tbody>\n",
              "    <tr>\n",
              "      <th>0</th>\n",
              "      <td>Color</td>\n",
              "      <td>James Cameron</td>\n",
              "      <td>723.0</td>\n",
              "      <td>178.0</td>\n",
              "      <td>0.0</td>\n",
              "      <td>855.0</td>\n",
              "      <td>Joel David Moore</td>\n",
              "      <td>1000.0</td>\n",
              "      <td>760505847.0</td>\n",
              "      <td>Action|Adventure|Fantasy|Sci-Fi</td>\n",
              "      <td>CCH Pounder</td>\n",
              "      <td>Avatar</td>\n",
              "      <td>886204</td>\n",
              "      <td>4834</td>\n",
              "      <td>Wes Studi</td>\n",
              "      <td>0.0</td>\n",
              "      <td>avatar|future|marine|native|paraplegic</td>\n",
              "      <td>http://www.imdb.com/title/tt0499549/?ref_=fn_t...</td>\n",
              "      <td>3054.0</td>\n",
              "      <td>English</td>\n",
              "      <td>USA</td>\n",
              "      <td>PG-13</td>\n",
              "      <td>237000000.0</td>\n",
              "      <td>2009.0</td>\n",
              "      <td>936.0</td>\n",
              "      <td>7.9</td>\n",
              "      <td>1.78</td>\n",
              "      <td>33000</td>\n",
              "    </tr>\n",
              "    <tr>\n",
              "      <th>1</th>\n",
              "      <td>Color</td>\n",
              "      <td>Gore Verbinski</td>\n",
              "      <td>302.0</td>\n",
              "      <td>169.0</td>\n",
              "      <td>563.0</td>\n",
              "      <td>1000.0</td>\n",
              "      <td>Orlando Bloom</td>\n",
              "      <td>40000.0</td>\n",
              "      <td>309404152.0</td>\n",
              "      <td>Action|Adventure|Fantasy</td>\n",
              "      <td>Johnny Depp</td>\n",
              "      <td>Pirates of the Caribbean: At World's End</td>\n",
              "      <td>471220</td>\n",
              "      <td>48350</td>\n",
              "      <td>Jack Davenport</td>\n",
              "      <td>0.0</td>\n",
              "      <td>goddess|marriage ceremony|marriage proposal|pi...</td>\n",
              "      <td>http://www.imdb.com/title/tt0449088/?ref_=fn_t...</td>\n",
              "      <td>1238.0</td>\n",
              "      <td>English</td>\n",
              "      <td>USA</td>\n",
              "      <td>PG-13</td>\n",
              "      <td>300000000.0</td>\n",
              "      <td>2007.0</td>\n",
              "      <td>5000.0</td>\n",
              "      <td>7.1</td>\n",
              "      <td>2.35</td>\n",
              "      <td>0</td>\n",
              "    </tr>\n",
              "    <tr>\n",
              "      <th>2</th>\n",
              "      <td>Color</td>\n",
              "      <td>Sam Mendes</td>\n",
              "      <td>602.0</td>\n",
              "      <td>148.0</td>\n",
              "      <td>0.0</td>\n",
              "      <td>161.0</td>\n",
              "      <td>Rory Kinnear</td>\n",
              "      <td>11000.0</td>\n",
              "      <td>200074175.0</td>\n",
              "      <td>Action|Adventure|Thriller</td>\n",
              "      <td>Christoph Waltz</td>\n",
              "      <td>Spectre</td>\n",
              "      <td>275868</td>\n",
              "      <td>11700</td>\n",
              "      <td>Stephanie Sigman</td>\n",
              "      <td>1.0</td>\n",
              "      <td>bomb|espionage|sequel|spy|terrorist</td>\n",
              "      <td>http://www.imdb.com/title/tt2379713/?ref_=fn_t...</td>\n",
              "      <td>994.0</td>\n",
              "      <td>English</td>\n",
              "      <td>UK</td>\n",
              "      <td>PG-13</td>\n",
              "      <td>245000000.0</td>\n",
              "      <td>2015.0</td>\n",
              "      <td>393.0</td>\n",
              "      <td>6.8</td>\n",
              "      <td>2.35</td>\n",
              "      <td>85000</td>\n",
              "    </tr>\n",
              "    <tr>\n",
              "      <th>3</th>\n",
              "      <td>Color</td>\n",
              "      <td>Christopher Nolan</td>\n",
              "      <td>813.0</td>\n",
              "      <td>164.0</td>\n",
              "      <td>22000.0</td>\n",
              "      <td>23000.0</td>\n",
              "      <td>Christian Bale</td>\n",
              "      <td>27000.0</td>\n",
              "      <td>448130642.0</td>\n",
              "      <td>Action|Thriller</td>\n",
              "      <td>Tom Hardy</td>\n",
              "      <td>The Dark Knight Rises</td>\n",
              "      <td>1144337</td>\n",
              "      <td>106759</td>\n",
              "      <td>Joseph Gordon-Levitt</td>\n",
              "      <td>0.0</td>\n",
              "      <td>deception|imprisonment|lawlessness|police offi...</td>\n",
              "      <td>http://www.imdb.com/title/tt1345836/?ref_=fn_t...</td>\n",
              "      <td>2701.0</td>\n",
              "      <td>English</td>\n",
              "      <td>USA</td>\n",
              "      <td>PG-13</td>\n",
              "      <td>250000000.0</td>\n",
              "      <td>2012.0</td>\n",
              "      <td>23000.0</td>\n",
              "      <td>8.5</td>\n",
              "      <td>2.35</td>\n",
              "      <td>164000</td>\n",
              "    </tr>\n",
              "    <tr>\n",
              "      <th>4</th>\n",
              "      <td>NaN</td>\n",
              "      <td>Doug Walker</td>\n",
              "      <td>NaN</td>\n",
              "      <td>NaN</td>\n",
              "      <td>131.0</td>\n",
              "      <td>NaN</td>\n",
              "      <td>Rob Walker</td>\n",
              "      <td>131.0</td>\n",
              "      <td>NaN</td>\n",
              "      <td>Documentary</td>\n",
              "      <td>Doug Walker</td>\n",
              "      <td>Star Wars: Episode VII - The Force Awakens</td>\n",
              "      <td>8</td>\n",
              "      <td>143</td>\n",
              "      <td>NaN</td>\n",
              "      <td>0.0</td>\n",
              "      <td>NaN</td>\n",
              "      <td>http://www.imdb.com/title/tt5289954/?ref_=fn_t...</td>\n",
              "      <td>NaN</td>\n",
              "      <td>NaN</td>\n",
              "      <td>NaN</td>\n",
              "      <td>NaN</td>\n",
              "      <td>NaN</td>\n",
              "      <td>NaN</td>\n",
              "      <td>12.0</td>\n",
              "      <td>7.1</td>\n",
              "      <td>NaN</td>\n",
              "      <td>0</td>\n",
              "    </tr>\n",
              "  </tbody>\n",
              "</table>\n",
              "</div>"
            ],
            "text/plain": [
              "   color      director_name  ...  aspect_ratio  movie_facebook_likes\n",
              "0  Color      James Cameron  ...          1.78                 33000\n",
              "1  Color     Gore Verbinski  ...          2.35                     0\n",
              "2  Color         Sam Mendes  ...          2.35                 85000\n",
              "3  Color  Christopher Nolan  ...          2.35                164000\n",
              "4    NaN        Doug Walker  ...           NaN                     0\n",
              "\n",
              "[5 rows x 28 columns]"
            ]
          },
          "metadata": {
            "tags": []
          },
          "execution_count": 32
        }
      ]
    },
    {
      "cell_type": "code",
      "metadata": {
        "id": "tNpwGXT_DA-5",
        "outputId": "45c06bf3-1d74-438a-cf6d-af3411814f8e",
        "colab": {
          "base_uri": "https://localhost:8080/"
        }
      },
      "source": [
        "med_budget = movie.groupby('title_year')['budget'].median() / 1e6\n",
        "print(type(med_budget))\n",
        "med_budget"
      ],
      "execution_count": 33,
      "outputs": [
        {
          "output_type": "stream",
          "text": [
            "<class 'pandas.core.series.Series'>\n"
          ],
          "name": "stdout"
        },
        {
          "output_type": "execute_result",
          "data": {
            "text/plain": [
              "title_year\n",
              "1916.0     0.385907\n",
              "1920.0     0.100000\n",
              "1925.0     0.245000\n",
              "1927.0     6.000000\n",
              "1929.0     0.379000\n",
              "            ...    \n",
              "2012.0    17.000000\n",
              "2013.0    20.000000\n",
              "2014.0    15.000000\n",
              "2015.0    14.400000\n",
              "2016.0    22.500000\n",
              "Name: budget, Length: 91, dtype: float64"
            ]
          },
          "metadata": {
            "tags": []
          },
          "execution_count": 33
        }
      ]
    },
    {
      "cell_type": "code",
      "metadata": {
        "id": "jo_UU0_J-BNV",
        "outputId": "b222585d-06cd-4427-e655-279f05a6f6cd",
        "colab": {
          "base_uri": "https://localhost:8080/"
        }
      },
      "source": [
        "med_budget_roll = med_budget.rolling(5, min_periods=1).mean()  # Provide rolling window calculations\n",
        "med_budget_roll.tail()"
      ],
      "execution_count": 34,
      "outputs": [
        {
          "output_type": "execute_result",
          "data": {
            "text/plain": [
              "title_year\n",
              "2012.0    20.893\n",
              "2013.0    19.893\n",
              "2014.0    19.100\n",
              "2015.0    17.980\n",
              "2016.0    17.780\n",
              "Name: budget, dtype: float64"
            ]
          },
          "metadata": {
            "tags": []
          },
          "execution_count": 34
        }
      ]
    },
    {
      "cell_type": "code",
      "metadata": {
        "id": "lVmLmoy_Sh-5",
        "outputId": "95c62166-1653-4e9f-8b3c-cd6933c24eff",
        "colab": {
          "base_uri": "https://localhost:8080/"
        }
      },
      "source": [
        "print(med_budget.loc[2012:2016].mean()) # 17.78\n",
        "print(med_budget.loc[2011:2015].mean()) # 17.98\n",
        "print(med_budget.loc[2010:2014].mean()) # 19.10"
      ],
      "execution_count": 35,
      "outputs": [
        {
          "output_type": "stream",
          "text": [
            "17.78\n",
            "17.98\n",
            "19.1\n"
          ],
          "name": "stdout"
        }
      ]
    },
    {
      "cell_type": "code",
      "metadata": {
        "id": "boAdW0FFTc9J",
        "outputId": "46254c41-d3ab-4a10-f656-a4ccacd7ef0e",
        "colab": {
          "base_uri": "https://localhost:8080/"
        }
      },
      "source": [
        "years = med_budget_roll.index.values\n",
        "years[-5:]"
      ],
      "execution_count": 36,
      "outputs": [
        {
          "output_type": "execute_result",
          "data": {
            "text/plain": [
              "array([2012., 2013., 2014., 2015., 2016.])"
            ]
          },
          "metadata": {
            "tags": []
          },
          "execution_count": 36
        }
      ]
    },
    {
      "cell_type": "code",
      "metadata": {
        "id": "1RUWz0laTfor",
        "outputId": "a423e1b8-7d5e-431c-a36b-fbeb1562897d",
        "colab": {
          "base_uri": "https://localhost:8080/"
        }
      },
      "source": [
        "budget = med_budget_roll.values\n",
        "budget[-5:]"
      ],
      "execution_count": 37,
      "outputs": [
        {
          "output_type": "execute_result",
          "data": {
            "text/plain": [
              "array([20.893, 19.893, 19.1  , 17.98 , 17.78 ])"
            ]
          },
          "metadata": {
            "tags": []
          },
          "execution_count": 37
        }
      ]
    },
    {
      "cell_type": "code",
      "metadata": {
        "id": "5yqIKO1SUHyI",
        "outputId": "1029f601-b450-4934-d95b-b5e14b53322e",
        "colab": {
          "base_uri": "https://localhost:8080/",
          "height": 269
        }
      },
      "source": [
        "fig, ax = plt.subplots(figsize=(14,4), linewidth=5, edgecolor='.5')\n",
        "# ax.plot(years, budget, linestyle='--', linewidth=3, color='.2', label='All Movies')\n",
        "# text_kwargs=dict(fontsize=20, family='cursive')\n",
        "# ax.set_title('Median Movie Budget', **text_kwargs)\n",
        "# ax.set_ylabel('Millions of Dollars', **text_kwargs)"
      ],
      "execution_count": 50,
      "outputs": [
        {
          "output_type": "display_data",
          "data": {
            "image/png": "[encoded data removed]",
            "text/plain": [
              "<Figure size 1008x288 with 1 Axes>"
            ]
          },
          "metadata": {
            "tags": [],
            "needs_background": "light"
          }
        }
      ]
    },
    {
      "cell_type": "code",
      "metadata": {
        "id": "42MQMyOJUhKl",
        "outputId": "ae4f261c-9b05-415f-ea1a-2e209d6e297d",
        "colab": {
          "base_uri": "https://localhost:8080/",
          "height": 303
        }
      },
      "source": [
        "fig, ax = plt.subplots(figsize=(14,4), linewidth=5, edgecolor='.5')\n",
        "ax.plot(years, budget, linestyle='--', linewidth=3, color='.2', label='All Movies')\n",
        "text_kwargs=dict(fontsize=20, family='cursive')\n",
        "ax.set_title('Median Movie Budget', **text_kwargs)\n",
        "ax.set_ylabel('Millions of Dollars', **text_kwargs)"
      ],
      "execution_count": 67,
      "outputs": [
        {
          "output_type": "execute_result",
          "data": {
            "text/plain": [
              "Text(0, 0.5, 'Millions of Dollars')"
            ]
          },
          "metadata": {
            "tags": []
          },
          "execution_count": 67
        },
        {
          "output_type": "display_data",
          "data": {
            "image/png": "[encoded data removed]",
            "text/plain": [
              "<Figure size 1008x288 with 1 Axes>"
            ]
          },
          "metadata": {
            "tags": [],
            "needs_background": "light"
          }
        }
      ]
    },
    {
      "cell_type": "code",
      "metadata": {
        "id": "ErUFb95XUy8V",
        "outputId": "27798e2a-55e6-438f-924e-d6c288658caf",
        "colab": {
          "base_uri": "https://localhost:8080/"
        }
      },
      "source": [
        "movie_count = movie.groupby('title_year')['budget'].count()\n",
        "movie_count.tail()"
      ],
      "execution_count": 68,
      "outputs": [
        {
          "output_type": "execute_result",
          "data": {
            "text/plain": [
              "title_year\n",
              "2012.0    191\n",
              "2013.0    208\n",
              "2014.0    221\n",
              "2015.0    192\n",
              "2016.0     86\n",
              "Name: budget, dtype: int64"
            ]
          },
          "metadata": {
            "tags": []
          },
          "execution_count": 68
        }
      ]
    },
    {
      "cell_type": "code",
      "metadata": {
        "id": "gVf9yAVaVRhy",
        "outputId": "5f778ff0-2989-4e5c-935a-b1d70ac7f9e3",
        "colab": {
          "base_uri": "https://localhost:8080/"
        }
      },
      "source": [
        "# print(type(movie_count)) # pandas.core.series.Series\n",
        "\n",
        "ct = movie_count.values\n",
        "# print(type(ct)) # numpy.ndarray\n",
        "print(ct.max()) # 221\n",
        "\n",
        "# budget = med_budget_roll.values  -- defined earlier\n",
        "print(budget.max()) # 26.7"
      ],
      "execution_count": 69,
      "outputs": [
        {
          "output_type": "stream",
          "text": [
            "221\n",
            "26.7\n"
          ],
          "name": "stdout"
        }
      ]
    },
    {
      "cell_type": "code",
      "metadata": {
        "id": "kR6FXaLaU2hJ",
        "outputId": "22fdfaa1-4c17-4b30-c620-d7cb1d407372",
        "colab": {
          "base_uri": "https://localhost:8080/"
        }
      },
      "source": [
        "ct_norm = ct / ct.max() * budget.max()\n",
        "\n",
        "print(ct[:10])\n",
        "print(ct_norm[:10])"
      ],
      "execution_count": 70,
      "outputs": [
        {
          "output_type": "stream",
          "text": [
            "[1 1 1 1 1 1 1 2 1 1]\n",
            "[0.12081448 0.12081448 0.12081448 0.12081448 0.12081448 0.12081448\n",
            " 0.12081448 0.24162896 0.12081448 0.12081448]\n"
          ],
          "name": "stdout"
        }
      ]
    },
    {
      "cell_type": "code",
      "metadata": {
        "id": "wmfTefmOXw29",
        "outputId": "b5e1ea79-837f-4f23-8b6f-6eb4dc29d9bd",
        "colab": {
          "base_uri": "https://localhost:8080/"
        }
      },
      "source": [
        "print(type(years))\n",
        "years"
      ],
      "execution_count": 55,
      "outputs": [
        {
          "output_type": "stream",
          "text": [
            "<class 'numpy.ndarray'>\n"
          ],
          "name": "stdout"
        },
        {
          "output_type": "execute_result",
          "data": {
            "text/plain": [
              "array([1916., 1920., 1925., 1927., 1929., 1930., 1932., 1933., 1934.,\n",
              "       1935., 1936., 1937., 1938., 1939., 1940., 1941., 1942., 1943.,\n",
              "       1944., 1945., 1946., 1947., 1948., 1949., 1950., 1951., 1952.,\n",
              "       1953., 1954., 1955., 1956., 1957., 1958., 1959., 1960., 1961.,\n",
              "       1962., 1963., 1964., 1965., 1966., 1967., 1968., 1969., 1970.,\n",
              "       1971., 1972., 1973., 1974., 1975., 1976., 1977., 1978., 1979.,\n",
              "       1980., 1981., 1982., 1983., 1984., 1985., 1986., 1987., 1988.,\n",
              "       1989., 1990., 1991., 1992., 1993., 1994., 1995., 1996., 1997.,\n",
              "       1998., 1999., 2000., 2001., 2002., 2003., 2004., 2005., 2006.,\n",
              "       2007., 2008., 2009., 2010., 2011., 2012., 2013., 2014., 2015.,\n",
              "       2016.])"
            ]
          },
          "metadata": {
            "tags": []
          },
          "execution_count": 55
        }
      ]
    },
    {
      "cell_type": "code",
      "metadata": {
        "id": "nOEdeUxuXqCR",
        "outputId": "87d11fcf-67b9-42f4-c786-0c916b5a4266",
        "colab": {
          "base_uri": "https://localhost:8080/"
        }
      },
      "source": [
        "fifth_year = (years % 5 == 0) & (years >= 1970)\n",
        "fifth_year\n",
        "# years_5 = years[fifth_year]\n",
        "# ct_5 = ct[fifth_year]\n",
        "# ct_norm_5 = ct_norm[fifth_year]"
      ],
      "execution_count": 71,
      "outputs": [
        {
          "output_type": "execute_result",
          "data": {
            "text/plain": [
              "array([False, False, False, False, False, False, False, False, False,\n",
              "       False, False, False, False, False, False, False, False, False,\n",
              "       False, False, False, False, False, False, False, False, False,\n",
              "       False, False, False, False, False, False, False, False, False,\n",
              "       False, False, False, False, False, False, False, False,  True,\n",
              "       False, False, False, False,  True, False, False, False, False,\n",
              "        True, False, False, False, False,  True, False, False, False,\n",
              "       False,  True, False, False, False, False,  True, False, False,\n",
              "       False, False,  True, False, False, False, False,  True, False,\n",
              "       False, False, False,  True, False, False, False, False,  True,\n",
              "       False])"
            ]
          },
          "metadata": {
            "tags": []
          },
          "execution_count": 71
        }
      ]
    },
    {
      "cell_type": "code",
      "metadata": {
        "id": "m1AQv_R5YMMu",
        "outputId": "ded44c3e-581f-409b-e6ad-61e1d68c60f3",
        "colab": {
          "base_uri": "https://localhost:8080/"
        }
      },
      "source": [
        "years_5 = years[fifth_year]\n",
        "print(len(years_5))\n",
        "print(years_5)\n",
        "ct_5 = ct[fifth_year]\n",
        "print(ct_5)\n",
        "ct_norm_5 = ct_norm[fifth_year]\n",
        "print(ct_norm_5)"
      ],
      "execution_count": 72,
      "outputs": [
        {
          "output_type": "stream",
          "text": [
            "10\n",
            "[1970. 1975. 1980. 1985. 1990. 1995. 2000. 2005. 2010. 2015.]\n",
            "[ 12   6  21  27  28  67 163 198 192 192]\n",
            "[ 1.44977376  0.72488688  2.53710407  3.26199095  3.38280543  8.09457014\n",
            " 19.69276018 23.92126697 23.19638009 23.19638009]\n"
          ],
          "name": "stdout"
        }
      ]
    },
    {
      "cell_type": "code",
      "metadata": {
        "id": "3niaXGPhYfiC",
        "outputId": "2a38f7f6-3f10-4663-b215-f31ed729aa3c",
        "colab": {
          "base_uri": "https://localhost:8080/",
          "height": 286
        }
      },
      "source": [
        "# ax.plot(years, budget, linestyle='--', linewidth=3, color='.2', label='All Movies')\n",
        "ax.legend()\n",
        "fig"
      ],
      "execution_count": 73,
      "outputs": [
        {
          "output_type": "execute_result",
          "data": {
            "image/png": "[encoded data removed]",
            "text/plain": [
              "<Figure size 1008x288 with 1 Axes>"
            ]
          },
          "metadata": {
            "tags": []
          },
          "execution_count": 73
        }
      ]
    },
    {
      "cell_type": "code",
      "metadata": {
        "id": "B1gHtfZkYmxS",
        "outputId": "724f306f-db62-4be6-ad6b-bdafee0adc8f",
        "colab": {
          "base_uri": "https://localhost:8080/",
          "height": 286
        }
      },
      "source": [
        "# Axes.bar(self, x, height, width=0.8, bottom=None, *, align='center', data=None, **kwargs)[source]\n",
        "ax.bar(years_5, ct_norm_5, 3, facecolor='.5', alpha=.3, label='Movies per Year')\n",
        "\n",
        "# ax.plot(years, budget, linestyle='--', linewidth=3, color='.2', label='All Movies')\n",
        "fig"
      ],
      "execution_count": 74,
      "outputs": [
        {
          "output_type": "execute_result",
          "data": {
            "image/png": "[encoded data removed]",
            "text/plain": [
              "<Figure size 1008x288 with 1 Axes>"
            ]
          },
          "metadata": {
            "tags": []
          },
          "execution_count": 74
        }
      ]
    },
    {
      "cell_type": "code",
      "metadata": {
        "id": "mKIU4C6PZ7Qf",
        "outputId": "65068b1a-1240-419a-81b2-3a20266ea366",
        "colab": {
          "base_uri": "https://localhost:8080/",
          "height": 286
        }
      },
      "source": [
        "ax.set_xlim(1968, 2017)\n",
        "fig"
      ],
      "execution_count": 75,
      "outputs": [
        {
          "output_type": "execute_result",
          "data": {
            "image/png": "[encoded data removed]",
            "text/plain": [
              "<Figure size 1008x288 with 1 Axes>"
            ]
          },
          "metadata": {
            "tags": []
          },
          "execution_count": 75
        }
      ]
    },
    {
      "cell_type": "code",
      "metadata": {
        "id": "3J_9aHNAaEzY",
        "outputId": "6cd4dce8-5e94-44a9-a3c1-1b2fd1bdc9ca",
        "colab": {
          "base_uri": "https://localhost:8080/"
        }
      },
      "source": [
        "for x, y, v in zip(years_5, ct_norm_5, ct_5):\n",
        "    print(x)\n",
        "    print(y)\n",
        "    print(v)\n",
        "    print()"
      ],
      "execution_count": 76,
      "outputs": [
        {
          "output_type": "stream",
          "text": [
            "1970.0\n",
            "1.4497737556561086\n",
            "12\n",
            "\n",
            "1975.0\n",
            "0.7248868778280543\n",
            "6\n",
            "\n",
            "1980.0\n",
            "2.53710407239819\n",
            "21\n",
            "\n",
            "1985.0\n",
            "3.2619909502262443\n",
            "27\n",
            "\n",
            "1990.0\n",
            "3.382805429864253\n",
            "28\n",
            "\n",
            "1995.0\n",
            "8.094570135746606\n",
            "67\n",
            "\n",
            "2000.0\n",
            "19.692760180995474\n",
            "163\n",
            "\n",
            "2005.0\n",
            "23.921266968325792\n",
            "198\n",
            "\n",
            "2010.0\n",
            "23.196380090497737\n",
            "192\n",
            "\n",
            "2015.0\n",
            "23.196380090497737\n",
            "192\n",
            "\n"
          ],
          "name": "stdout"
        }
      ]
    },
    {
      "cell_type": "code",
      "metadata": {
        "id": "J9FEdCJDap6j",
        "outputId": "21d945c1-8ed0-43aa-d95a-c44ec6399f48",
        "colab": {
          "base_uri": "https://localhost:8080/",
          "height": 286
        }
      },
      "source": [
        "for x, y, v in zip(years_5, ct_norm_5, ct_5):\n",
        "    # the first 2 positions for the coordinates\n",
        "    ax.text(x, y + 0.5, str(v), ha='center') # ha='horizontal alignment' # ['center'|'right'|'left']\n",
        "ax.legend()\n",
        "fig"
      ],
      "execution_count": 77,
      "outputs": [
        {
          "output_type": "execute_result",
          "data": {
            "image/png": "[encoded data removed]",
            "text/plain": [
              "<Figure size 1008x288 with 1 Axes>"
            ]
          },
          "metadata": {
            "tags": []
          },
          "execution_count": 77
        }
      ]
    },
    {
      "cell_type": "code",
      "metadata": {
        "id": "Ph1v06MgZkJx",
        "outputId": "792e7bb3-662c-47b2-c4d2-0b705537ada1",
        "colab": {
          "base_uri": "https://localhost:8080/"
        }
      },
      "source": [
        "# tmp = movie.sort_values('budget', ascending=False).groupby('title_year')['budget']\n",
        "tmp = movie.groupby(['title_year'])['budget'].count()\n",
        "tmp"
      ],
      "execution_count": 89,
      "outputs": [
        {
          "output_type": "execute_result",
          "data": {
            "text/plain": [
              "title_year\n",
              "1916.0      1\n",
              "1920.0      1\n",
              "1925.0      1\n",
              "1927.0      1\n",
              "1929.0      1\n",
              "         ... \n",
              "2012.0    191\n",
              "2013.0    208\n",
              "2014.0    221\n",
              "2015.0    192\n",
              "2016.0     86\n",
              "Name: budget, Length: 91, dtype: int64"
            ]
          },
          "metadata": {
            "tags": []
          },
          "execution_count": 89
        }
      ]
    },
    {
      "cell_type": "code",
      "metadata": {
        "id": "iWsrgUfReHvT",
        "outputId": "e824ea38-52b5-4f03-f23b-756b615af52b",
        "colab": {
          "base_uri": "https://localhost:8080/"
        }
      },
      "source": [
        "selected = movie.sort_values('budget', ascending=False).groupby('title_year')['budget'].apply(lambda x: x.count())  # x means all entity of a year\n",
        "selected"
      ],
      "execution_count": 99,
      "outputs": [
        {
          "output_type": "execute_result",
          "data": {
            "text/plain": [
              "title_year\n",
              "1916.0      1\n",
              "1920.0      1\n",
              "1925.0      1\n",
              "1927.0      1\n",
              "1929.0      1\n",
              "         ... \n",
              "2012.0    191\n",
              "2013.0    208\n",
              "2014.0    221\n",
              "2015.0    192\n",
              "2016.0     86\n",
              "Name: budget, Length: 91, dtype: int64"
            ]
          },
          "metadata": {
            "tags": []
          },
          "execution_count": 99
        }
      ]
    },
    {
      "cell_type": "code",
      "metadata": {
        "id": "2Ec5TX0YazO6",
        "outputId": "f3c4b478-f125-4808-e5a2-47bd5c2ba634",
        "colab": {
          "base_uri": "https://localhost:8080/"
        }
      },
      "source": [
        "select_10 = movie.sort_values('budget', ascending=False).groupby('title_year')['budget'].apply(lambda x: x.iloc[:10].median() / 1e6)\n",
        "select_10"
      ],
      "execution_count": 96,
      "outputs": [
        {
          "output_type": "execute_result",
          "data": {
            "text/plain": [
              "title_year\n",
              "1916.0      0.385907\n",
              "1920.0      0.100000\n",
              "1925.0      0.245000\n",
              "1927.0      6.000000\n",
              "1929.0      0.379000\n",
              "             ...    \n",
              "2012.0    214.500000\n",
              "2013.0    200.000000\n",
              "2014.0    179.000000\n",
              "2015.0    175.500000\n",
              "2016.0    176.500000\n",
              "Name: budget, Length: 91, dtype: float64"
            ]
          },
          "metadata": {
            "tags": []
          },
          "execution_count": 96
        }
      ]
    },
    {
      "cell_type": "code",
      "metadata": {
        "id": "ct3W0A-dbh0H",
        "outputId": "75c74a0c-a66b-4d64-f462-6ef04f814d52",
        "colab": {
          "base_uri": "https://localhost:8080/"
        }
      },
      "source": [
        "select_10 = movie.sort_values('budget', ascending=True).groupby('title_year')['budget'].apply(lambda x: x.iloc[:10].median() / 1e6)\n",
        "select_10"
      ],
      "execution_count": 97,
      "outputs": [
        {
          "output_type": "execute_result",
          "data": {
            "text/plain": [
              "title_year\n",
              "1916.0    0.385907\n",
              "1920.0    0.100000\n",
              "1925.0    0.245000\n",
              "1927.0    6.000000\n",
              "1929.0    0.379000\n",
              "            ...   \n",
              "2012.0    0.200000\n",
              "2013.0    0.055000\n",
              "2014.0    0.087500\n",
              "2015.0    0.112500\n",
              "2016.0    2.500000\n",
              "Name: budget, Length: 91, dtype: float64"
            ]
          },
          "metadata": {
            "tags": []
          },
          "execution_count": 97
        }
      ]
    },
    {
      "cell_type": "code",
      "metadata": {
        "id": "PpUscwqzdTtq",
        "outputId": "7f42dea4-99d7-4687-d295-15206ead730c",
        "colab": {
          "base_uri": "https://localhost:8080/"
        }
      },
      "source": [
        "selected = movie.sort_values('budget', ascending=True).groupby('title_year')['budget'].apply(lambda x: x.median() / 1e6)\n",
        "selected"
      ],
      "execution_count": 98,
      "outputs": [
        {
          "output_type": "execute_result",
          "data": {
            "text/plain": [
              "title_year\n",
              "1916.0     0.385907\n",
              "1920.0     0.100000\n",
              "1925.0     0.245000\n",
              "1927.0     6.000000\n",
              "1929.0     0.379000\n",
              "            ...    \n",
              "2012.0    17.000000\n",
              "2013.0    20.000000\n",
              "2014.0    15.000000\n",
              "2015.0    14.400000\n",
              "2016.0    22.500000\n",
              "Name: budget, Length: 91, dtype: float64"
            ]
          },
          "metadata": {
            "tags": []
          },
          "execution_count": 98
        }
      ]
    }
  ]
}