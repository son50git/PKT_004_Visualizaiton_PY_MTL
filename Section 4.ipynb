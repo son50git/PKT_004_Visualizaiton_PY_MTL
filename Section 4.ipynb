{
 "cells": [
  {
   "cell_type": "markdown",
   "metadata": {},
   "source": [
    "# Grouping and Aggregating with Time Series Analysis"
   ]
  },
  {
   "cell_type": "code",
   "execution_count": 6,
   "metadata": {},
   "outputs": [],
   "source": [
    "import pandas as pd\n",
    "import numpy as np\n",
    "import datetime\n",
    "\n",
    "%matplotlib inline"
   ]
  },
  {
   "cell_type": "markdown",
   "metadata": {},
   "source": [
    "### Aggregating weekly crime and traffic accidents separately"
   ]
  },
  {
   "cell_type": "code",
   "execution_count": 7,
   "metadata": {},
   "outputs": [],
   "source": [
    "crime_sort = pd.read_hdf('data/crime.h5', 'crime') \\\n",
    "               .set_index('REPORTED_DATE') \\\n",
    "               .sort_index()"
   ]
  },
  {
   "cell_type": "code",
   "execution_count": 8,
   "metadata": {},
   "outputs": [
    {
     "data": {
      "text/html": [
       "<div>\n",
       "<style>\n",
       "    .dataframe thead tr:only-child th {\n",
       "        text-align: right;\n",
       "    }\n",
       "\n",
       "    .dataframe thead th {\n",
       "        text-align: left;\n",
       "    }\n",
       "\n",
       "    .dataframe tbody tr th {\n",
       "        vertical-align: top;\n",
       "    }\n",
       "</style>\n",
       "<table border=\"1\" class=\"dataframe\">\n",
       "  <thead>\n",
       "    <tr style=\"text-align: right;\">\n",
       "      <th></th>\n",
       "      <th>IS_CRIME</th>\n",
       "      <th>IS_TRAFFIC</th>\n",
       "    </tr>\n",
       "    <tr>\n",
       "      <th>REPORTED_DATE</th>\n",
       "      <th></th>\n",
       "      <th></th>\n",
       "    </tr>\n",
       "  </thead>\n",
       "  <tbody>\n",
       "    <tr>\n",
       "      <th>2012-03-31</th>\n",
       "      <td>7882</td>\n",
       "      <td>4726</td>\n",
       "    </tr>\n",
       "    <tr>\n",
       "      <th>2012-06-30</th>\n",
       "      <td>9641</td>\n",
       "      <td>5255</td>\n",
       "    </tr>\n",
       "    <tr>\n",
       "      <th>2012-09-30</th>\n",
       "      <td>10566</td>\n",
       "      <td>5003</td>\n",
       "    </tr>\n",
       "    <tr>\n",
       "      <th>2012-12-31</th>\n",
       "      <td>9197</td>\n",
       "      <td>4802</td>\n",
       "    </tr>\n",
       "    <tr>\n",
       "      <th>2013-03-31</th>\n",
       "      <td>8730</td>\n",
       "      <td>4442</td>\n",
       "    </tr>\n",
       "  </tbody>\n",
       "</table>\n",
       "</div>"
      ],
      "text/plain": [
       "               IS_CRIME  IS_TRAFFIC\n",
       "REPORTED_DATE                      \n",
       "2012-03-31         7882        4726\n",
       "2012-06-30         9641        5255\n",
       "2012-09-30        10566        5003\n",
       "2012-12-31         9197        4802\n",
       "2013-03-31         8730        4442"
      ]
     },
     "execution_count": 8,
     "metadata": {},
     "output_type": "execute_result"
    }
   ],
   "source": [
    "crime_quarterly = crime_sort.resample('Q')['IS_CRIME', 'IS_TRAFFIC'].sum()\n",
    "crime_quarterly.head()"
   ]
  },
  {
   "cell_type": "code",
   "execution_count": 9,
   "metadata": {},
   "outputs": [
    {
     "data": {
      "text/html": [
       "<div>\n",
       "<style>\n",
       "    .dataframe thead tr:only-child th {\n",
       "        text-align: right;\n",
       "    }\n",
       "\n",
       "    .dataframe thead th {\n",
       "        text-align: left;\n",
       "    }\n",
       "\n",
       "    .dataframe tbody tr th {\n",
       "        vertical-align: top;\n",
       "    }\n",
       "</style>\n",
       "<table border=\"1\" class=\"dataframe\">\n",
       "  <thead>\n",
       "    <tr style=\"text-align: right;\">\n",
       "      <th></th>\n",
       "      <th>GEO_LON</th>\n",
       "      <th>GEO_LAT</th>\n",
       "      <th>IS_CRIME</th>\n",
       "      <th>IS_TRAFFIC</th>\n",
       "    </tr>\n",
       "    <tr>\n",
       "      <th>REPORTED_DATE</th>\n",
       "      <th></th>\n",
       "      <th></th>\n",
       "      <th></th>\n",
       "      <th></th>\n",
       "    </tr>\n",
       "  </thead>\n",
       "  <tbody>\n",
       "    <tr>\n",
       "      <th>2012-03-31</th>\n",
       "      <td>-1.313006e+06</td>\n",
       "      <td>496960.237747</td>\n",
       "      <td>7882</td>\n",
       "      <td>4726</td>\n",
       "    </tr>\n",
       "    <tr>\n",
       "      <th>2012-06-30</th>\n",
       "      <td>-1.547274e+06</td>\n",
       "      <td>585656.789182</td>\n",
       "      <td>9641</td>\n",
       "      <td>5255</td>\n",
       "    </tr>\n",
       "    <tr>\n",
       "      <th>2012-09-30</th>\n",
       "      <td>-1.615835e+06</td>\n",
       "      <td>611604.800384</td>\n",
       "      <td>10566</td>\n",
       "      <td>5003</td>\n",
       "    </tr>\n",
       "    <tr>\n",
       "      <th>2012-12-31</th>\n",
       "      <td>-1.458177e+06</td>\n",
       "      <td>551923.040048</td>\n",
       "      <td>9197</td>\n",
       "      <td>4802</td>\n",
       "    </tr>\n",
       "    <tr>\n",
       "      <th>2013-03-31</th>\n",
       "      <td>-1.368931e+06</td>\n",
       "      <td>518159.721947</td>\n",
       "      <td>8730</td>\n",
       "      <td>4442</td>\n",
       "    </tr>\n",
       "  </tbody>\n",
       "</table>\n",
       "</div>"
      ],
      "text/plain": [
       "                    GEO_LON        GEO_LAT  IS_CRIME  IS_TRAFFIC\n",
       "REPORTED_DATE                                                   \n",
       "2012-03-31    -1.313006e+06  496960.237747      7882        4726\n",
       "2012-06-30    -1.547274e+06  585656.789182      9641        5255\n",
       "2012-09-30    -1.615835e+06  611604.800384     10566        5003\n",
       "2012-12-31    -1.458177e+06  551923.040048      9197        4802\n",
       "2013-03-31    -1.368931e+06  518159.721947      8730        4442"
      ]
     },
     "execution_count": 9,
     "metadata": {},
     "output_type": "execute_result"
    }
   ],
   "source": [
    "crime_sort.resample('Q').sum().head()"
   ]
  },
  {
   "cell_type": "code",
   "execution_count": 10,
   "metadata": {},
   "outputs": [
    {
     "data": {
      "text/html": [
       "<div>\n",
       "<style>\n",
       "    .dataframe thead tr:only-child th {\n",
       "        text-align: right;\n",
       "    }\n",
       "\n",
       "    .dataframe thead th {\n",
       "        text-align: left;\n",
       "    }\n",
       "\n",
       "    .dataframe tbody tr th {\n",
       "        vertical-align: top;\n",
       "    }\n",
       "</style>\n",
       "<table border=\"1\" class=\"dataframe\">\n",
       "  <thead>\n",
       "    <tr style=\"text-align: right;\">\n",
       "      <th></th>\n",
       "      <th>IS_CRIME</th>\n",
       "      <th>IS_TRAFFIC</th>\n",
       "    </tr>\n",
       "    <tr>\n",
       "      <th>REPORTED_DATE</th>\n",
       "      <th></th>\n",
       "      <th></th>\n",
       "    </tr>\n",
       "  </thead>\n",
       "  <tbody>\n",
       "    <tr>\n",
       "      <th>2012-01-01</th>\n",
       "      <td>7882</td>\n",
       "      <td>4726</td>\n",
       "    </tr>\n",
       "    <tr>\n",
       "      <th>2012-04-01</th>\n",
       "      <td>9641</td>\n",
       "      <td>5255</td>\n",
       "    </tr>\n",
       "    <tr>\n",
       "      <th>2012-07-01</th>\n",
       "      <td>10566</td>\n",
       "      <td>5003</td>\n",
       "    </tr>\n",
       "    <tr>\n",
       "      <th>2012-10-01</th>\n",
       "      <td>9197</td>\n",
       "      <td>4802</td>\n",
       "    </tr>\n",
       "    <tr>\n",
       "      <th>2013-01-01</th>\n",
       "      <td>8730</td>\n",
       "      <td>4442</td>\n",
       "    </tr>\n",
       "  </tbody>\n",
       "</table>\n",
       "</div>"
      ],
      "text/plain": [
       "               IS_CRIME  IS_TRAFFIC\n",
       "REPORTED_DATE                      \n",
       "2012-01-01         7882        4726\n",
       "2012-04-01         9641        5255\n",
       "2012-07-01        10566        5003\n",
       "2012-10-01         9197        4802\n",
       "2013-01-01         8730        4442"
      ]
     },
     "execution_count": 10,
     "metadata": {},
     "output_type": "execute_result"
    }
   ],
   "source": [
    "crime_sort.resample('QS')['IS_CRIME', 'IS_TRAFFIC'].sum().head()"
   ]
  },
  {
   "cell_type": "code",
   "execution_count": 11,
   "metadata": {},
   "outputs": [
    {
     "data": {
      "text/plain": [
       "IS_CRIME      9641\n",
       "IS_TRAFFIC    5255\n",
       "dtype: int64"
      ]
     },
     "execution_count": 11,
     "metadata": {},
     "output_type": "execute_result"
    }
   ],
   "source": [
    "crime_sort.loc['2012-4-1':'2012-6-30', ['IS_CRIME', 'IS_TRAFFIC']].sum()"
   ]
  },
  {
   "cell_type": "code",
   "execution_count": 12,
   "metadata": {},
   "outputs": [
    {
     "data": {
      "text/plain": [
       "True"
      ]
     },
     "execution_count": 12,
     "metadata": {},
     "output_type": "execute_result"
    }
   ],
   "source": [
    "crime_quarterly2 = crime_sort.groupby(pd.Grouper(freq='Q'))['IS_CRIME', 'IS_TRAFFIC'].sum()\n",
    "crime_quarterly2.equals(crime_quarterly)"
   ]
  },
  {
   "cell_type": "code",
   "execution_count": 13,
   "metadata": {},
   "outputs": [
    {
     "data": {
      "text/plain": [
       "<matplotlib.axes._subplots.AxesSubplot at 0x9919a58>"
      ]
     },
     "execution_count": 13,
     "metadata": {},
     "output_type": "execute_result"
    },
    {
     "data": {
      "image/png": "[encoded data removed]",
      "text/plain": [
       "<matplotlib.figure.Figure at 0x99120f0>"
      ]
     },
     "metadata": {},
     "output_type": "display_data"
    }
   ],
   "source": [
    "plot_kwargs = dict(figsize=(16,4), \n",
    "                   color=['black', 'lightgrey'], \n",
    "                   title='Denver Crimes and Traffic Accidents')\n",
    "crime_quarterly.plot(**plot_kwargs)"
   ]
  },
  {
   "cell_type": "markdown",
   "metadata": {},
   "source": [
    "### Measuring crime by weekday and year"
   ]
  },
  {
   "cell_type": "code",
   "execution_count": 14,
   "metadata": {},
   "outputs": [
    {
     "data": {
      "text/html": [
       "<div>\n",
       "<style>\n",
       "    .dataframe thead tr:only-child th {\n",
       "        text-align: right;\n",
       "    }\n",
       "\n",
       "    .dataframe thead th {\n",
       "        text-align: left;\n",
       "    }\n",
       "\n",
       "    .dataframe tbody tr th {\n",
       "        vertical-align: top;\n",
       "    }\n",
       "</style>\n",
       "<table border=\"1\" class=\"dataframe\">\n",
       "  <thead>\n",
       "    <tr style=\"text-align: right;\">\n",
       "      <th></th>\n",
       "      <th>OFFENSE_TYPE_ID</th>\n",
       "      <th>OFFENSE_CATEGORY_ID</th>\n",
       "      <th>REPORTED_DATE</th>\n",
       "      <th>GEO_LON</th>\n",
       "      <th>GEO_LAT</th>\n",
       "      <th>NEIGHBORHOOD_ID</th>\n",
       "      <th>IS_CRIME</th>\n",
       "      <th>IS_TRAFFIC</th>\n",
       "    </tr>\n",
       "  </thead>\n",
       "  <tbody>\n",
       "    <tr>\n",
       "      <th>0</th>\n",
       "      <td>traffic-accident-dui-duid</td>\n",
       "      <td>traffic-accident</td>\n",
       "      <td>2014-06-29 02:01:00</td>\n",
       "      <td>-105.000149</td>\n",
       "      <td>39.745753</td>\n",
       "      <td>cbd</td>\n",
       "      <td>0</td>\n",
       "      <td>1</td>\n",
       "    </tr>\n",
       "    <tr>\n",
       "      <th>1</th>\n",
       "      <td>vehicular-eluding-no-chase</td>\n",
       "      <td>all-other-crimes</td>\n",
       "      <td>2014-06-29 01:54:00</td>\n",
       "      <td>-104.884660</td>\n",
       "      <td>39.738702</td>\n",
       "      <td>east-colfax</td>\n",
       "      <td>1</td>\n",
       "      <td>0</td>\n",
       "    </tr>\n",
       "    <tr>\n",
       "      <th>2</th>\n",
       "      <td>disturbing-the-peace</td>\n",
       "      <td>public-disorder</td>\n",
       "      <td>2014-06-29 02:00:00</td>\n",
       "      <td>-105.020719</td>\n",
       "      <td>39.706674</td>\n",
       "      <td>athmar-park</td>\n",
       "      <td>1</td>\n",
       "      <td>0</td>\n",
       "    </tr>\n",
       "    <tr>\n",
       "      <th>3</th>\n",
       "      <td>curfew</td>\n",
       "      <td>public-disorder</td>\n",
       "      <td>2014-06-29 02:18:00</td>\n",
       "      <td>-105.001552</td>\n",
       "      <td>39.769505</td>\n",
       "      <td>sunnyside</td>\n",
       "      <td>1</td>\n",
       "      <td>0</td>\n",
       "    </tr>\n",
       "    <tr>\n",
       "      <th>4</th>\n",
       "      <td>aggravated-assault</td>\n",
       "      <td>aggravated-assault</td>\n",
       "      <td>2014-06-29 04:17:00</td>\n",
       "      <td>-105.018557</td>\n",
       "      <td>39.679229</td>\n",
       "      <td>college-view-south-platte</td>\n",
       "      <td>1</td>\n",
       "      <td>0</td>\n",
       "    </tr>\n",
       "  </tbody>\n",
       "</table>\n",
       "</div>"
      ],
      "text/plain": [
       "              OFFENSE_TYPE_ID OFFENSE_CATEGORY_ID       REPORTED_DATE  \\\n",
       "0   traffic-accident-dui-duid    traffic-accident 2014-06-29 02:01:00   \n",
       "1  vehicular-eluding-no-chase    all-other-crimes 2014-06-29 01:54:00   \n",
       "2        disturbing-the-peace     public-disorder 2014-06-29 02:00:00   \n",
       "3                      curfew     public-disorder 2014-06-29 02:18:00   \n",
       "4          aggravated-assault  aggravated-assault 2014-06-29 04:17:00   \n",
       "\n",
       "      GEO_LON    GEO_LAT            NEIGHBORHOOD_ID  IS_CRIME  IS_TRAFFIC  \n",
       "0 -105.000149  39.745753                        cbd         0           1  \n",
       "1 -104.884660  39.738702                east-colfax         1           0  \n",
       "2 -105.020719  39.706674                athmar-park         1           0  \n",
       "3 -105.001552  39.769505                  sunnyside         1           0  \n",
       "4 -105.018557  39.679229  college-view-south-platte         1           0  "
      ]
     },
     "execution_count": 14,
     "metadata": {},
     "output_type": "execute_result"
    }
   ],
   "source": [
    "crime = pd.read_hdf('data/crime.h5', 'crime')\n",
    "crime.head()"
   ]
  },
  {
   "cell_type": "code",
   "execution_count": 15,
   "metadata": {},
   "outputs": [
    {
     "data": {
      "text/plain": [
       "Monday       70024\n",
       "Friday       69621\n",
       "Wednesday    69538\n",
       "Thursday     69287\n",
       "Tuesday      68394\n",
       "Saturday     58834\n",
       "Sunday       55213\n",
       "Name: REPORTED_DATE, dtype: int64"
      ]
     },
     "execution_count": 15,
     "metadata": {},
     "output_type": "execute_result"
    }
   ],
   "source": [
    "wd_counts = crime['REPORTED_DATE'].dt.weekday_name.value_counts()\n",
    "wd_counts"
   ]
  },
  {
   "cell_type": "code",
   "execution_count": 16,
   "metadata": {},
   "outputs": [
    {
     "data": {
      "text/plain": [
       "Monday       70024\n",
       "Tuesday      68394\n",
       "Wednesday    69538\n",
       "Thursday     69287\n",
       "Friday       69621\n",
       "Saturday     58834\n",
       "Sunday       55213\n",
       "Name: REPORTED_DATE, dtype: int64"
      ]
     },
     "execution_count": 16,
     "metadata": {},
     "output_type": "execute_result"
    }
   ],
   "source": [
    "days = ['Monday', 'Tuesday', 'Wednesday', 'Thursday', \n",
    "        'Friday', 'Saturday', 'Sunday']\n",
    "wd_counts.loc[days]"
   ]
  },
  {
   "cell_type": "code",
   "execution_count": 17,
   "metadata": {},
   "outputs": [
    {
     "data": {
      "text/plain": [
       "<matplotlib.axes._subplots.AxesSubplot at 0x98cd240>"
      ]
     },
     "execution_count": 17,
     "metadata": {},
     "output_type": "execute_result"
    },
    {
     "data": {
      "image/png": "[encoded data removed]",
      "text/plain": [
       "<matplotlib.figure.Figure at 0xd76a6a0>"
      ]
     },
     "metadata": {},
     "output_type": "display_data"
    }
   ],
   "source": [
    "title = 'Denver Crimes and Traffic Accidents per Weekday'\n",
    "wd_counts.reindex(days).plot(kind='barh', title=title)"
   ]
  },
  {
   "cell_type": "code",
   "execution_count": 18,
   "metadata": {},
   "outputs": [
    {
     "data": {
      "text/plain": [
       "<matplotlib.axes._subplots.AxesSubplot at 0x9a38470>"
      ]
     },
     "execution_count": 18,
     "metadata": {},
     "output_type": "execute_result"
    },
    {
     "data": {
      "image/png": "[encoded data removed]",
      "text/plain": [
       "<matplotlib.figure.Figure at 0x9b12c18>"
      ]
     },
     "metadata": {},
     "output_type": "display_data"
    }
   ],
   "source": [
    "title = 'Denver Crimes and Traffic Accidents per Year' \n",
    "crime['REPORTED_DATE'].dt.year.value_counts() \\\n",
    "                              .sort_index() \\\n",
    "                              .plot(kind='barh', title=title)"
   ]
  },
  {
   "cell_type": "code",
   "execution_count": 19,
   "metadata": {},
   "outputs": [
    {
     "data": {
      "text/plain": [
       "REPORTED_DATE  REPORTED_DATE\n",
       "2012           Friday            8549\n",
       "               Monday            8786\n",
       "               Saturday          7442\n",
       "               Sunday            7189\n",
       "               Thursday          8440\n",
       "               Tuesday           8191\n",
       "               Wednesday         8440\n",
       "2013           Friday           10380\n",
       "               Monday           10627\n",
       "               Saturday          8875\n",
       "dtype: int64"
      ]
     },
     "execution_count": 19,
     "metadata": {},
     "output_type": "execute_result"
    }
   ],
   "source": [
    "weekday = crime['REPORTED_DATE'].dt.weekday_name\n",
    "year = crime['REPORTED_DATE'].dt.year\n",
    "\n",
    "crime_wd_y = crime.groupby([year, weekday]).size()\n",
    "crime_wd_y.head(10)"
   ]
  },
  {
   "cell_type": "code",
   "execution_count": 20,
   "metadata": {},
   "outputs": [
    {
     "data": {
      "text/html": [
       "<div>\n",
       "<style>\n",
       "    .dataframe thead tr:only-child th {\n",
       "        text-align: right;\n",
       "    }\n",
       "\n",
       "    .dataframe thead th {\n",
       "        text-align: left;\n",
       "    }\n",
       "\n",
       "    .dataframe tbody tr th {\n",
       "        vertical-align: top;\n",
       "    }\n",
       "</style>\n",
       "<table border=\"1\" class=\"dataframe\">\n",
       "  <thead>\n",
       "    <tr style=\"text-align: right;\">\n",
       "      <th>Weekday</th>\n",
       "      <th>Friday</th>\n",
       "      <th>Monday</th>\n",
       "      <th>Saturday</th>\n",
       "      <th>Sunday</th>\n",
       "      <th>Thursday</th>\n",
       "      <th>Tuesday</th>\n",
       "      <th>Wednesday</th>\n",
       "    </tr>\n",
       "    <tr>\n",
       "      <th>Year</th>\n",
       "      <th></th>\n",
       "      <th></th>\n",
       "      <th></th>\n",
       "      <th></th>\n",
       "      <th></th>\n",
       "      <th></th>\n",
       "      <th></th>\n",
       "    </tr>\n",
       "  </thead>\n",
       "  <tbody>\n",
       "    <tr>\n",
       "      <th>2012</th>\n",
       "      <td>8549</td>\n",
       "      <td>8786</td>\n",
       "      <td>7442</td>\n",
       "      <td>7189</td>\n",
       "      <td>8440</td>\n",
       "      <td>8191</td>\n",
       "      <td>8440</td>\n",
       "    </tr>\n",
       "    <tr>\n",
       "      <th>2013</th>\n",
       "      <td>10380</td>\n",
       "      <td>10627</td>\n",
       "      <td>8875</td>\n",
       "      <td>8444</td>\n",
       "      <td>10431</td>\n",
       "      <td>10416</td>\n",
       "      <td>10354</td>\n",
       "    </tr>\n",
       "    <tr>\n",
       "      <th>2014</th>\n",
       "      <td>12683</td>\n",
       "      <td>12813</td>\n",
       "      <td>10950</td>\n",
       "      <td>10278</td>\n",
       "      <td>12309</td>\n",
       "      <td>12440</td>\n",
       "      <td>12948</td>\n",
       "    </tr>\n",
       "    <tr>\n",
       "      <th>2015</th>\n",
       "      <td>13273</td>\n",
       "      <td>13452</td>\n",
       "      <td>11586</td>\n",
       "      <td>10624</td>\n",
       "      <td>13512</td>\n",
       "      <td>13381</td>\n",
       "      <td>13320</td>\n",
       "    </tr>\n",
       "    <tr>\n",
       "      <th>2016</th>\n",
       "      <td>14059</td>\n",
       "      <td>13708</td>\n",
       "      <td>11467</td>\n",
       "      <td>10554</td>\n",
       "      <td>14050</td>\n",
       "      <td>13338</td>\n",
       "      <td>13900</td>\n",
       "    </tr>\n",
       "    <tr>\n",
       "      <th>2017</th>\n",
       "      <td>10677</td>\n",
       "      <td>10638</td>\n",
       "      <td>8514</td>\n",
       "      <td>8124</td>\n",
       "      <td>10545</td>\n",
       "      <td>10628</td>\n",
       "      <td>10576</td>\n",
       "    </tr>\n",
       "  </tbody>\n",
       "</table>\n",
       "</div>"
      ],
      "text/plain": [
       "Weekday  Friday  Monday  Saturday  Sunday  Thursday  Tuesday  Wednesday\n",
       "Year                                                                   \n",
       "2012       8549    8786      7442    7189      8440     8191       8440\n",
       "2013      10380   10627      8875    8444     10431    10416      10354\n",
       "2014      12683   12813     10950   10278     12309    12440      12948\n",
       "2015      13273   13452     11586   10624     13512    13381      13320\n",
       "2016      14059   13708     11467   10554     14050    13338      13900\n",
       "2017      10677   10638      8514    8124     10545    10628      10576"
      ]
     },
     "execution_count": 20,
     "metadata": {},
     "output_type": "execute_result"
    }
   ],
   "source": [
    "crime_table = crime_wd_y.rename_axis(['Year', 'Weekday']).unstack('Weekday')\n",
    "crime_table"
   ]
  },
  {
   "cell_type": "code",
   "execution_count": 21,
   "metadata": {},
   "outputs": [
    {
     "data": {
      "text/plain": [
       "0.745"
      ]
     },
     "execution_count": 21,
     "metadata": {},
     "output_type": "execute_result"
    }
   ],
   "source": [
    "round(272 / 365, 3)"
   ]
  },
  {
   "cell_type": "code",
   "execution_count": 22,
   "metadata": {},
   "outputs": [
    {
     "data": {
      "text/plain": [
       "REPORTED_DATE\n",
       "2012    0.748\n",
       "2013    0.725\n",
       "2014    0.751\n",
       "2015    0.748\n",
       "2016    0.752\n",
       "2017    1.000\n",
       "Name: REPORTED_DATE, dtype: float64"
      ]
     },
     "execution_count": 22,
     "metadata": {},
     "output_type": "execute_result"
    }
   ],
   "source": [
    "crime_pct = crime['REPORTED_DATE'].dt.dayofyear.le(272) \\\n",
    "                                  .groupby(year) \\\n",
    "                                  .mean() \\\n",
    "                                  .round(3)\n",
    "crime_pct"
   ]
  },
  {
   "cell_type": "code",
   "execution_count": 23,
   "metadata": {},
   "outputs": [
    {
     "data": {
      "text/plain": [
       "0.748"
      ]
     },
     "execution_count": 23,
     "metadata": {},
     "output_type": "execute_result"
    }
   ],
   "source": [
    "crime_pct.loc[2012:2016].median()"
   ]
  },
  {
   "cell_type": "code",
   "execution_count": 24,
   "metadata": {},
   "outputs": [
    {
     "data": {
      "text/plain": [
       "<matplotlib.axes._subplots.AxesSubplot at 0xad9a630>"
      ]
     },
     "execution_count": 24,
     "metadata": {},
     "output_type": "execute_result"
    },
    {
     "data": {
      "image/png": "[encoded data removed]",
      "text/plain": [
       "<matplotlib.figure.Figure at 0x9a802e8>"
      ]
     },
     "metadata": {},
     "output_type": "display_data"
    }
   ],
   "source": [
    "import seaborn as sns\n",
    "sns.heatmap(crime_table, cmap='Greys')"
   ]
  },
  {
   "cell_type": "code",
   "execution_count": 25,
   "metadata": {},
   "outputs": [
    {
     "data": {
      "text/html": [
       "<div>\n",
       "<style>\n",
       "    .dataframe thead tr:only-child th {\n",
       "        text-align: right;\n",
       "    }\n",
       "\n",
       "    .dataframe thead th {\n",
       "        text-align: left;\n",
       "    }\n",
       "\n",
       "    .dataframe tbody tr th {\n",
       "        vertical-align: top;\n",
       "    }\n",
       "</style>\n",
       "<table border=\"1\" class=\"dataframe\">\n",
       "  <thead>\n",
       "    <tr style=\"text-align: right;\">\n",
       "      <th></th>\n",
       "      <th>Population</th>\n",
       "    </tr>\n",
       "    <tr>\n",
       "      <th>Year</th>\n",
       "      <th></th>\n",
       "    </tr>\n",
       "  </thead>\n",
       "  <tbody>\n",
       "    <tr>\n",
       "      <th>2017</th>\n",
       "      <td>705000</td>\n",
       "    </tr>\n",
       "    <tr>\n",
       "      <th>2016</th>\n",
       "      <td>693000</td>\n",
       "    </tr>\n",
       "    <tr>\n",
       "      <th>2015</th>\n",
       "      <td>680000</td>\n",
       "    </tr>\n",
       "    <tr>\n",
       "      <th>2014</th>\n",
       "      <td>662000</td>\n",
       "    </tr>\n",
       "    <tr>\n",
       "      <th>2013</th>\n",
       "      <td>647000</td>\n",
       "    </tr>\n",
       "    <tr>\n",
       "      <th>2012</th>\n",
       "      <td>634000</td>\n",
       "    </tr>\n",
       "  </tbody>\n",
       "</table>\n",
       "</div>"
      ],
      "text/plain": [
       "      Population\n",
       "Year            \n",
       "2017      705000\n",
       "2016      693000\n",
       "2015      680000\n",
       "2014      662000\n",
       "2013      647000\n",
       "2012      634000"
      ]
     },
     "execution_count": 25,
     "metadata": {},
     "output_type": "execute_result"
    }
   ],
   "source": [
    "denver_pop = pd.read_csv('data/denver_pop.csv', index_col='Year')\n",
    "denver_pop"
   ]
  },
  {
   "cell_type": "code",
   "execution_count": 26,
   "metadata": {},
   "outputs": [
    {
     "data": {
      "text/html": [
       "<div>\n",
       "<style>\n",
       "    .dataframe thead tr:only-child th {\n",
       "        text-align: right;\n",
       "    }\n",
       "\n",
       "    .dataframe thead th {\n",
       "        text-align: left;\n",
       "    }\n",
       "\n",
       "    .dataframe tbody tr th {\n",
       "        vertical-align: top;\n",
       "    }\n",
       "</style>\n",
       "<table border=\"1\" class=\"dataframe\">\n",
       "  <thead>\n",
       "    <tr style=\"text-align: right;\">\n",
       "      <th>Weekday</th>\n",
       "      <th>Friday</th>\n",
       "      <th>Monday</th>\n",
       "      <th>Saturday</th>\n",
       "      <th>Sunday</th>\n",
       "      <th>Thursday</th>\n",
       "      <th>Tuesday</th>\n",
       "      <th>Wednesday</th>\n",
       "    </tr>\n",
       "    <tr>\n",
       "      <th>Year</th>\n",
       "      <th></th>\n",
       "      <th></th>\n",
       "      <th></th>\n",
       "      <th></th>\n",
       "      <th></th>\n",
       "      <th></th>\n",
       "      <th></th>\n",
       "    </tr>\n",
       "  </thead>\n",
       "  <tbody>\n",
       "    <tr>\n",
       "      <th>2012</th>\n",
       "      <td>1348</td>\n",
       "      <td>1385</td>\n",
       "      <td>1173</td>\n",
       "      <td>1133</td>\n",
       "      <td>1331</td>\n",
       "      <td>1291</td>\n",
       "      <td>1331</td>\n",
       "    </tr>\n",
       "    <tr>\n",
       "      <th>2013</th>\n",
       "      <td>1604</td>\n",
       "      <td>1642</td>\n",
       "      <td>1371</td>\n",
       "      <td>1305</td>\n",
       "      <td>1612</td>\n",
       "      <td>1609</td>\n",
       "      <td>1600</td>\n",
       "    </tr>\n",
       "    <tr>\n",
       "      <th>2014</th>\n",
       "      <td>1915</td>\n",
       "      <td>1935</td>\n",
       "      <td>1654</td>\n",
       "      <td>1552</td>\n",
       "      <td>1859</td>\n",
       "      <td>1879</td>\n",
       "      <td>1955</td>\n",
       "    </tr>\n",
       "    <tr>\n",
       "      <th>2015</th>\n",
       "      <td>1951</td>\n",
       "      <td>1978</td>\n",
       "      <td>1703</td>\n",
       "      <td>1562</td>\n",
       "      <td>1987</td>\n",
       "      <td>1967</td>\n",
       "      <td>1958</td>\n",
       "    </tr>\n",
       "    <tr>\n",
       "      <th>2016</th>\n",
       "      <td>2028</td>\n",
       "      <td>1978</td>\n",
       "      <td>1654</td>\n",
       "      <td>1522</td>\n",
       "      <td>2027</td>\n",
       "      <td>1924</td>\n",
       "      <td>2005</td>\n",
       "    </tr>\n",
       "    <tr>\n",
       "      <th>2017</th>\n",
       "      <td>1514</td>\n",
       "      <td>1508</td>\n",
       "      <td>1207</td>\n",
       "      <td>1152</td>\n",
       "      <td>1495</td>\n",
       "      <td>1507</td>\n",
       "      <td>1500</td>\n",
       "    </tr>\n",
       "  </tbody>\n",
       "</table>\n",
       "</div>"
      ],
      "text/plain": [
       "Weekday  Friday  Monday  Saturday  Sunday  Thursday  Tuesday  Wednesday\n",
       "Year                                                                   \n",
       "2012       1348    1385      1173    1133      1331     1291       1331\n",
       "2013       1604    1642      1371    1305      1612     1609       1600\n",
       "2014       1915    1935      1654    1552      1859     1879       1955\n",
       "2015       1951    1978      1703    1562      1987     1967       1958\n",
       "2016       2028    1978      1654    1522      2027     1924       2005\n",
       "2017       1514    1508      1207    1152      1495     1507       1500"
      ]
     },
     "execution_count": 26,
     "metadata": {},
     "output_type": "execute_result"
    }
   ],
   "source": [
    "den_100k = denver_pop.div(100000).squeeze()\n",
    "crime_table2 = crime_table.div(den_100k, axis='index').astype('int')\n",
    "crime_table2"
   ]
  },
  {
   "cell_type": "code",
   "execution_count": 27,
   "metadata": {},
   "outputs": [
    {
     "data": {
      "text/plain": [
       "<matplotlib.axes._subplots.AxesSubplot at 0xaedec88>"
      ]
     },
     "execution_count": 27,
     "metadata": {},
     "output_type": "execute_result"
    },
    {
     "data": {
      "image/png": "[encoded data removed]",
      "text/plain": [
       "<matplotlib.figure.Figure at 0xae47828>"
      ]
     },
     "metadata": {},
     "output_type": "display_data"
    }
   ],
   "source": [
    "sns.heatmap(crime_table2, cmap='Greys')"
   ]
  },
  {
   "cell_type": "markdown",
   "metadata": {},
   "source": [
    "### Grouping with anonymous functions with a DatetimeIndex"
   ]
  },
  {
   "cell_type": "code",
   "execution_count": 28,
   "metadata": {},
   "outputs": [],
   "source": [
    "crime_sort = pd.read_hdf('data/crime.h5', 'crime') \\\n",
    "               .set_index('REPORTED_DATE') \\\n",
    "               .sort_index()"
   ]
  },
  {
   "cell_type": "code",
   "execution_count": 29,
   "metadata": {},
   "outputs": [
    {
     "name": "stdout",
     "output_type": "stream",
     "text": [
      "['daysinmonth', 'days_in_month', 'is_month_start', 'dayofyear', 'week', 'normalize', 'weekday', 'is_year_end', 'tz', 'floor', 'year', 'to_pydatetime', 'strftime', 'date', 'weekday_name', 'time', 'second', 'to_datetime', 'tzinfo', 'round', 'is_leap_year', 'freq', 'ceil', 'tz_localize', 'freqstr', 'is_quarter_start', 'min', 'quarter', 'resolution', 'microsecond', 'minute', 'nanosecond', 'hour', 'tz_convert', 'dayofweek', 'month', 'is_month_end', 'offset', 'max', 'is_year_start', 'to_period', 'weekofyear', 'day', 'to_julian_date', 'is_quarter_end']\n"
     ]
    }
   ],
   "source": [
    "common_attrs = set(dir(crime_sort.index)) & set(dir(pd.Timestamp))\n",
    "print([attr for attr in common_attrs if attr[0] != '_'])"
   ]
  },
  {
   "cell_type": "code",
   "execution_count": 30,
   "metadata": {},
   "outputs": [
    {
     "data": {
      "text/plain": [
       "Monday       70024\n",
       "Friday       69621\n",
       "Wednesday    69538\n",
       "Thursday     69287\n",
       "Tuesday      68394\n",
       "Saturday     58834\n",
       "Sunday       55213\n",
       "Name: REPORTED_DATE, dtype: int64"
      ]
     },
     "execution_count": 30,
     "metadata": {},
     "output_type": "execute_result"
    }
   ],
   "source": [
    "crime_sort.index.weekday_name.value_counts()"
   ]
  },
  {
   "cell_type": "code",
   "execution_count": 31,
   "metadata": {},
   "outputs": [
    {
     "data": {
      "text/html": [
       "<div>\n",
       "<style>\n",
       "    .dataframe thead tr:only-child th {\n",
       "        text-align: right;\n",
       "    }\n",
       "\n",
       "    .dataframe thead th {\n",
       "        text-align: left;\n",
       "    }\n",
       "\n",
       "    .dataframe tbody tr th {\n",
       "        vertical-align: top;\n",
       "    }\n",
       "</style>\n",
       "<table border=\"1\" class=\"dataframe\">\n",
       "  <thead>\n",
       "    <tr style=\"text-align: right;\">\n",
       "      <th></th>\n",
       "      <th>IS_CRIME</th>\n",
       "      <th>IS_TRAFFIC</th>\n",
       "    </tr>\n",
       "  </thead>\n",
       "  <tbody>\n",
       "    <tr>\n",
       "      <th>Friday</th>\n",
       "      <td>48833</td>\n",
       "      <td>20814</td>\n",
       "    </tr>\n",
       "    <tr>\n",
       "      <th>Monday</th>\n",
       "      <td>52158</td>\n",
       "      <td>17895</td>\n",
       "    </tr>\n",
       "    <tr>\n",
       "      <th>Saturday</th>\n",
       "      <td>43363</td>\n",
       "      <td>15516</td>\n",
       "    </tr>\n",
       "    <tr>\n",
       "      <th>Sunday</th>\n",
       "      <td>42315</td>\n",
       "      <td>12968</td>\n",
       "    </tr>\n",
       "    <tr>\n",
       "      <th>Thursday</th>\n",
       "      <td>49470</td>\n",
       "      <td>19845</td>\n",
       "    </tr>\n",
       "    <tr>\n",
       "      <th>Tuesday</th>\n",
       "      <td>49658</td>\n",
       "      <td>18755</td>\n",
       "    </tr>\n",
       "    <tr>\n",
       "      <th>Wednesday</th>\n",
       "      <td>50054</td>\n",
       "      <td>19508</td>\n",
       "    </tr>\n",
       "  </tbody>\n",
       "</table>\n",
       "</div>"
      ],
      "text/plain": [
       "           IS_CRIME  IS_TRAFFIC\n",
       "Friday        48833       20814\n",
       "Monday        52158       17895\n",
       "Saturday      43363       15516\n",
       "Sunday        42315       12968\n",
       "Thursday      49470       19845\n",
       "Tuesday       49658       18755\n",
       "Wednesday     50054       19508"
      ]
     },
     "execution_count": 31,
     "metadata": {},
     "output_type": "execute_result"
    }
   ],
   "source": [
    "crime_sort.groupby(lambda x: x.weekday_name)['IS_CRIME', 'IS_TRAFFIC'].sum()"
   ]
  },
  {
   "cell_type": "code",
   "execution_count": 32,
   "metadata": {},
   "outputs": [
    {
     "data": {
      "text/html": [
       "<style  type=\"text/css\" >\n",
       "    #T_dc47c81e_4ed6_11e8_a499_f44d30a9ee6arow6_col0 {\n",
       "            background-color:  lightgrey;\n",
       "        }    #T_dc47c81e_4ed6_11e8_a499_f44d30a9ee6arow8_col1 {\n",
       "            background-color:  lightgrey;\n",
       "        }    #T_dc47c81e_4ed6_11e8_a499_f44d30a9ee6arow8_col2 {\n",
       "            background-color:  lightgrey;\n",
       "        }    #T_dc47c81e_4ed6_11e8_a499_f44d30a9ee6arow8_col3 {\n",
       "            background-color:  lightgrey;\n",
       "        }    #T_dc47c81e_4ed6_11e8_a499_f44d30a9ee6arow8_col4 {\n",
       "            background-color:  lightgrey;\n",
       "        }    #T_dc47c81e_4ed6_11e8_a499_f44d30a9ee6arow8_col5 {\n",
       "            background-color:  lightgrey;\n",
       "        }    #T_dc47c81e_4ed6_11e8_a499_f44d30a9ee6arow8_col11 {\n",
       "            background-color:  lightgrey;\n",
       "        }    #T_dc47c81e_4ed6_11e8_a499_f44d30a9ee6arow9_col6 {\n",
       "            background-color:  lightgrey;\n",
       "        }    #T_dc47c81e_4ed6_11e8_a499_f44d30a9ee6arow9_col7 {\n",
       "            background-color:  lightgrey;\n",
       "        }    #T_dc47c81e_4ed6_11e8_a499_f44d30a9ee6arow9_col8 {\n",
       "            background-color:  lightgrey;\n",
       "        }    #T_dc47c81e_4ed6_11e8_a499_f44d30a9ee6arow9_col9 {\n",
       "            background-color:  lightgrey;\n",
       "        }    #T_dc47c81e_4ed6_11e8_a499_f44d30a9ee6arow9_col10 {\n",
       "            background-color:  lightgrey;\n",
       "        }</style>  \n",
       "<table id=\"T_dc47c81e_4ed6_11e8_a499_f44d30a9ee6a\" > \n",
       "<thead>    <tr> \n",
       "        <th class=\"blank level0\" ></th> \n",
       "        <th class=\"col_heading level0 col0\" colspan=6>IS_CRIME</th> \n",
       "        <th class=\"col_heading level0 col6\" colspan=6>IS_TRAFFIC</th> \n",
       "    </tr>    <tr> \n",
       "        <th class=\"blank level1\" ></th> \n",
       "        <th class=\"col_heading level1 col0\" >2012</th> \n",
       "        <th class=\"col_heading level1 col1\" >2013</th> \n",
       "        <th class=\"col_heading level1 col2\" >2014</th> \n",
       "        <th class=\"col_heading level1 col3\" >2015</th> \n",
       "        <th class=\"col_heading level1 col4\" >2016</th> \n",
       "        <th class=\"col_heading level1 col5\" >2017</th> \n",
       "        <th class=\"col_heading level1 col6\" >2012</th> \n",
       "        <th class=\"col_heading level1 col7\" >2013</th> \n",
       "        <th class=\"col_heading level1 col8\" >2014</th> \n",
       "        <th class=\"col_heading level1 col9\" >2015</th> \n",
       "        <th class=\"col_heading level1 col10\" >2016</th> \n",
       "        <th class=\"col_heading level1 col11\" >2017</th> \n",
       "    </tr></thead> \n",
       "<tbody>    <tr> \n",
       "        <th id=\"T_dc47c81e_4ed6_11e8_a499_f44d30a9ee6a\" class=\"row_heading level0 row0\" >0</th> \n",
       "        <td id=\"T_dc47c81e_4ed6_11e8_a499_f44d30a9ee6arow0_col0\" class=\"data row0 col0\" >2422</td> \n",
       "        <td id=\"T_dc47c81e_4ed6_11e8_a499_f44d30a9ee6arow0_col1\" class=\"data row0 col1\" >4040</td> \n",
       "        <td id=\"T_dc47c81e_4ed6_11e8_a499_f44d30a9ee6arow0_col2\" class=\"data row0 col2\" >5649</td> \n",
       "        <td id=\"T_dc47c81e_4ed6_11e8_a499_f44d30a9ee6arow0_col3\" class=\"data row0 col3\" >5649</td> \n",
       "        <td id=\"T_dc47c81e_4ed6_11e8_a499_f44d30a9ee6arow0_col4\" class=\"data row0 col4\" >5377</td> \n",
       "        <td id=\"T_dc47c81e_4ed6_11e8_a499_f44d30a9ee6arow0_col5\" class=\"data row0 col5\" >3811</td> \n",
       "        <td id=\"T_dc47c81e_4ed6_11e8_a499_f44d30a9ee6arow0_col6\" class=\"data row0 col6\" >919</td> \n",
       "        <td id=\"T_dc47c81e_4ed6_11e8_a499_f44d30a9ee6arow0_col7\" class=\"data row0 col7\" >792</td> \n",
       "        <td id=\"T_dc47c81e_4ed6_11e8_a499_f44d30a9ee6arow0_col8\" class=\"data row0 col8\" >978</td> \n",
       "        <td id=\"T_dc47c81e_4ed6_11e8_a499_f44d30a9ee6arow0_col9\" class=\"data row0 col9\" >1136</td> \n",
       "        <td id=\"T_dc47c81e_4ed6_11e8_a499_f44d30a9ee6arow0_col10\" class=\"data row0 col10\" >980</td> \n",
       "        <td id=\"T_dc47c81e_4ed6_11e8_a499_f44d30a9ee6arow0_col11\" class=\"data row0 col11\" >782</td> \n",
       "    </tr>    <tr> \n",
       "        <th id=\"T_dc47c81e_4ed6_11e8_a499_f44d30a9ee6a\" class=\"row_heading level0 row1\" >2</th> \n",
       "        <td id=\"T_dc47c81e_4ed6_11e8_a499_f44d30a9ee6arow1_col0\" class=\"data row1 col0\" >1888</td> \n",
       "        <td id=\"T_dc47c81e_4ed6_11e8_a499_f44d30a9ee6arow1_col1\" class=\"data row1 col1\" >3214</td> \n",
       "        <td id=\"T_dc47c81e_4ed6_11e8_a499_f44d30a9ee6arow1_col2\" class=\"data row1 col2\" >4245</td> \n",
       "        <td id=\"T_dc47c81e_4ed6_11e8_a499_f44d30a9ee6arow1_col3\" class=\"data row1 col3\" >4050</td> \n",
       "        <td id=\"T_dc47c81e_4ed6_11e8_a499_f44d30a9ee6arow1_col4\" class=\"data row1 col4\" >4091</td> \n",
       "        <td id=\"T_dc47c81e_4ed6_11e8_a499_f44d30a9ee6arow1_col5\" class=\"data row1 col5\" >3041</td> \n",
       "        <td id=\"T_dc47c81e_4ed6_11e8_a499_f44d30a9ee6arow1_col6\" class=\"data row1 col6\" >718</td> \n",
       "        <td id=\"T_dc47c81e_4ed6_11e8_a499_f44d30a9ee6arow1_col7\" class=\"data row1 col7\" >652</td> \n",
       "        <td id=\"T_dc47c81e_4ed6_11e8_a499_f44d30a9ee6arow1_col8\" class=\"data row1 col8\" >779</td> \n",
       "        <td id=\"T_dc47c81e_4ed6_11e8_a499_f44d30a9ee6arow1_col9\" class=\"data row1 col9\" >773</td> \n",
       "        <td id=\"T_dc47c81e_4ed6_11e8_a499_f44d30a9ee6arow1_col10\" class=\"data row1 col10\" >718</td> \n",
       "        <td id=\"T_dc47c81e_4ed6_11e8_a499_f44d30a9ee6arow1_col11\" class=\"data row1 col11\" >537</td> \n",
       "    </tr>    <tr> \n",
       "        <th id=\"T_dc47c81e_4ed6_11e8_a499_f44d30a9ee6a\" class=\"row_heading level0 row2\" >4</th> \n",
       "        <td id=\"T_dc47c81e_4ed6_11e8_a499_f44d30a9ee6arow2_col0\" class=\"data row2 col0\" >1472</td> \n",
       "        <td id=\"T_dc47c81e_4ed6_11e8_a499_f44d30a9ee6arow2_col1\" class=\"data row2 col1\" >2181</td> \n",
       "        <td id=\"T_dc47c81e_4ed6_11e8_a499_f44d30a9ee6arow2_col2\" class=\"data row2 col2\" >2956</td> \n",
       "        <td id=\"T_dc47c81e_4ed6_11e8_a499_f44d30a9ee6arow2_col3\" class=\"data row2 col3\" >2959</td> \n",
       "        <td id=\"T_dc47c81e_4ed6_11e8_a499_f44d30a9ee6arow2_col4\" class=\"data row2 col4\" >3044</td> \n",
       "        <td id=\"T_dc47c81e_4ed6_11e8_a499_f44d30a9ee6arow2_col5\" class=\"data row2 col5\" >2255</td> \n",
       "        <td id=\"T_dc47c81e_4ed6_11e8_a499_f44d30a9ee6arow2_col6\" class=\"data row2 col6\" >399</td> \n",
       "        <td id=\"T_dc47c81e_4ed6_11e8_a499_f44d30a9ee6arow2_col7\" class=\"data row2 col7\" >378</td> \n",
       "        <td id=\"T_dc47c81e_4ed6_11e8_a499_f44d30a9ee6arow2_col8\" class=\"data row2 col8\" >424</td> \n",
       "        <td id=\"T_dc47c81e_4ed6_11e8_a499_f44d30a9ee6arow2_col9\" class=\"data row2 col9\" >471</td> \n",
       "        <td id=\"T_dc47c81e_4ed6_11e8_a499_f44d30a9ee6arow2_col10\" class=\"data row2 col10\" >464</td> \n",
       "        <td id=\"T_dc47c81e_4ed6_11e8_a499_f44d30a9ee6arow2_col11\" class=\"data row2 col11\" >313</td> \n",
       "    </tr>    <tr> \n",
       "        <th id=\"T_dc47c81e_4ed6_11e8_a499_f44d30a9ee6a\" class=\"row_heading level0 row3\" >6</th> \n",
       "        <td id=\"T_dc47c81e_4ed6_11e8_a499_f44d30a9ee6arow3_col0\" class=\"data row3 col0\" >1067</td> \n",
       "        <td id=\"T_dc47c81e_4ed6_11e8_a499_f44d30a9ee6arow3_col1\" class=\"data row3 col1\" >1365</td> \n",
       "        <td id=\"T_dc47c81e_4ed6_11e8_a499_f44d30a9ee6arow3_col2\" class=\"data row3 col2\" >1750</td> \n",
       "        <td id=\"T_dc47c81e_4ed6_11e8_a499_f44d30a9ee6arow3_col3\" class=\"data row3 col3\" >2167</td> \n",
       "        <td id=\"T_dc47c81e_4ed6_11e8_a499_f44d30a9ee6arow3_col4\" class=\"data row3 col4\" >2108</td> \n",
       "        <td id=\"T_dc47c81e_4ed6_11e8_a499_f44d30a9ee6arow3_col5\" class=\"data row3 col5\" >1567</td> \n",
       "        <td id=\"T_dc47c81e_4ed6_11e8_a499_f44d30a9ee6arow3_col6\" class=\"data row3 col6\" >411</td> \n",
       "        <td id=\"T_dc47c81e_4ed6_11e8_a499_f44d30a9ee6arow3_col7\" class=\"data row3 col7\" >399</td> \n",
       "        <td id=\"T_dc47c81e_4ed6_11e8_a499_f44d30a9ee6arow3_col8\" class=\"data row3 col8\" >479</td> \n",
       "        <td id=\"T_dc47c81e_4ed6_11e8_a499_f44d30a9ee6arow3_col9\" class=\"data row3 col9\" >494</td> \n",
       "        <td id=\"T_dc47c81e_4ed6_11e8_a499_f44d30a9ee6arow3_col10\" class=\"data row3 col10\" >593</td> \n",
       "        <td id=\"T_dc47c81e_4ed6_11e8_a499_f44d30a9ee6arow3_col11\" class=\"data row3 col11\" >462</td> \n",
       "    </tr>    <tr> \n",
       "        <th id=\"T_dc47c81e_4ed6_11e8_a499_f44d30a9ee6a\" class=\"row_heading level0 row4\" >8</th> \n",
       "        <td id=\"T_dc47c81e_4ed6_11e8_a499_f44d30a9ee6arow4_col0\" class=\"data row4 col0\" >2998</td> \n",
       "        <td id=\"T_dc47c81e_4ed6_11e8_a499_f44d30a9ee6arow4_col1\" class=\"data row4 col1\" >3445</td> \n",
       "        <td id=\"T_dc47c81e_4ed6_11e8_a499_f44d30a9ee6arow4_col2\" class=\"data row4 col2\" >3727</td> \n",
       "        <td id=\"T_dc47c81e_4ed6_11e8_a499_f44d30a9ee6arow4_col3\" class=\"data row4 col3\" >4161</td> \n",
       "        <td id=\"T_dc47c81e_4ed6_11e8_a499_f44d30a9ee6arow4_col4\" class=\"data row4 col4\" >4488</td> \n",
       "        <td id=\"T_dc47c81e_4ed6_11e8_a499_f44d30a9ee6arow4_col5\" class=\"data row4 col5\" >3251</td> \n",
       "        <td id=\"T_dc47c81e_4ed6_11e8_a499_f44d30a9ee6arow4_col6\" class=\"data row4 col6\" >1957</td> \n",
       "        <td id=\"T_dc47c81e_4ed6_11e8_a499_f44d30a9ee6arow4_col7\" class=\"data row4 col7\" >1955</td> \n",
       "        <td id=\"T_dc47c81e_4ed6_11e8_a499_f44d30a9ee6arow4_col8\" class=\"data row4 col8\" >2210</td> \n",
       "        <td id=\"T_dc47c81e_4ed6_11e8_a499_f44d30a9ee6arow4_col9\" class=\"data row4 col9\" >2331</td> \n",
       "        <td id=\"T_dc47c81e_4ed6_11e8_a499_f44d30a9ee6arow4_col10\" class=\"data row4 col10\" >2372</td> \n",
       "        <td id=\"T_dc47c81e_4ed6_11e8_a499_f44d30a9ee6arow4_col11\" class=\"data row4 col11\" >1828</td> \n",
       "    </tr>    <tr> \n",
       "        <th id=\"T_dc47c81e_4ed6_11e8_a499_f44d30a9ee6a\" class=\"row_heading level0 row5\" >10</th> \n",
       "        <td id=\"T_dc47c81e_4ed6_11e8_a499_f44d30a9ee6arow5_col0\" class=\"data row5 col0\" >4305</td> \n",
       "        <td id=\"T_dc47c81e_4ed6_11e8_a499_f44d30a9ee6arow5_col1\" class=\"data row5 col1\" >5035</td> \n",
       "        <td id=\"T_dc47c81e_4ed6_11e8_a499_f44d30a9ee6arow5_col2\" class=\"data row5 col2\" >5658</td> \n",
       "        <td id=\"T_dc47c81e_4ed6_11e8_a499_f44d30a9ee6arow5_col3\" class=\"data row5 col3\" >6205</td> \n",
       "        <td id=\"T_dc47c81e_4ed6_11e8_a499_f44d30a9ee6arow5_col4\" class=\"data row5 col4\" >6218</td> \n",
       "        <td id=\"T_dc47c81e_4ed6_11e8_a499_f44d30a9ee6arow5_col5\" class=\"data row5 col5\" >4993</td> \n",
       "        <td id=\"T_dc47c81e_4ed6_11e8_a499_f44d30a9ee6arow5_col6\" class=\"data row5 col6\" >1979</td> \n",
       "        <td id=\"T_dc47c81e_4ed6_11e8_a499_f44d30a9ee6arow5_col7\" class=\"data row5 col7\" >1901</td> \n",
       "        <td id=\"T_dc47c81e_4ed6_11e8_a499_f44d30a9ee6arow5_col8\" class=\"data row5 col8\" >2139</td> \n",
       "        <td id=\"T_dc47c81e_4ed6_11e8_a499_f44d30a9ee6arow5_col9\" class=\"data row5 col9\" >2320</td> \n",
       "        <td id=\"T_dc47c81e_4ed6_11e8_a499_f44d30a9ee6arow5_col10\" class=\"data row5 col10\" >2303</td> \n",
       "        <td id=\"T_dc47c81e_4ed6_11e8_a499_f44d30a9ee6arow5_col11\" class=\"data row5 col11\" >1873</td> \n",
       "    </tr>    <tr> \n",
       "        <th id=\"T_dc47c81e_4ed6_11e8_a499_f44d30a9ee6a\" class=\"row_heading level0 row6\" >12</th> \n",
       "        <td id=\"T_dc47c81e_4ed6_11e8_a499_f44d30a9ee6arow6_col0\" class=\"data row6 col0\" >4496</td> \n",
       "        <td id=\"T_dc47c81e_4ed6_11e8_a499_f44d30a9ee6arow6_col1\" class=\"data row6 col1\" >5524</td> \n",
       "        <td id=\"T_dc47c81e_4ed6_11e8_a499_f44d30a9ee6arow6_col2\" class=\"data row6 col2\" >6434</td> \n",
       "        <td id=\"T_dc47c81e_4ed6_11e8_a499_f44d30a9ee6arow6_col3\" class=\"data row6 col3\" >6841</td> \n",
       "        <td id=\"T_dc47c81e_4ed6_11e8_a499_f44d30a9ee6arow6_col4\" class=\"data row6 col4\" >7226</td> \n",
       "        <td id=\"T_dc47c81e_4ed6_11e8_a499_f44d30a9ee6arow6_col5\" class=\"data row6 col5\" >5463</td> \n",
       "        <td id=\"T_dc47c81e_4ed6_11e8_a499_f44d30a9ee6arow6_col6\" class=\"data row6 col6\" >2200</td> \n",
       "        <td id=\"T_dc47c81e_4ed6_11e8_a499_f44d30a9ee6arow6_col7\" class=\"data row6 col7\" >2138</td> \n",
       "        <td id=\"T_dc47c81e_4ed6_11e8_a499_f44d30a9ee6arow6_col8\" class=\"data row6 col8\" >2379</td> \n",
       "        <td id=\"T_dc47c81e_4ed6_11e8_a499_f44d30a9ee6arow6_col9\" class=\"data row6 col9\" >2631</td> \n",
       "        <td id=\"T_dc47c81e_4ed6_11e8_a499_f44d30a9ee6arow6_col10\" class=\"data row6 col10\" >2760</td> \n",
       "        <td id=\"T_dc47c81e_4ed6_11e8_a499_f44d30a9ee6arow6_col11\" class=\"data row6 col11\" >1986</td> \n",
       "    </tr>    <tr> \n",
       "        <th id=\"T_dc47c81e_4ed6_11e8_a499_f44d30a9ee6a\" class=\"row_heading level0 row7\" >14</th> \n",
       "        <td id=\"T_dc47c81e_4ed6_11e8_a499_f44d30a9ee6arow7_col0\" class=\"data row7 col0\" >4266</td> \n",
       "        <td id=\"T_dc47c81e_4ed6_11e8_a499_f44d30a9ee6arow7_col1\" class=\"data row7 col1\" >5698</td> \n",
       "        <td id=\"T_dc47c81e_4ed6_11e8_a499_f44d30a9ee6arow7_col2\" class=\"data row7 col2\" >6708</td> \n",
       "        <td id=\"T_dc47c81e_4ed6_11e8_a499_f44d30a9ee6arow7_col3\" class=\"data row7 col3\" >7218</td> \n",
       "        <td id=\"T_dc47c81e_4ed6_11e8_a499_f44d30a9ee6arow7_col4\" class=\"data row7 col4\" >6896</td> \n",
       "        <td id=\"T_dc47c81e_4ed6_11e8_a499_f44d30a9ee6arow7_col5\" class=\"data row7 col5\" >5396</td> \n",
       "        <td id=\"T_dc47c81e_4ed6_11e8_a499_f44d30a9ee6arow7_col6\" class=\"data row7 col6\" >2241</td> \n",
       "        <td id=\"T_dc47c81e_4ed6_11e8_a499_f44d30a9ee6arow7_col7\" class=\"data row7 col7\" >2245</td> \n",
       "        <td id=\"T_dc47c81e_4ed6_11e8_a499_f44d30a9ee6arow7_col8\" class=\"data row7 col8\" >2630</td> \n",
       "        <td id=\"T_dc47c81e_4ed6_11e8_a499_f44d30a9ee6arow7_col9\" class=\"data row7 col9\" >2840</td> \n",
       "        <td id=\"T_dc47c81e_4ed6_11e8_a499_f44d30a9ee6arow7_col10\" class=\"data row7 col10\" >2763</td> \n",
       "        <td id=\"T_dc47c81e_4ed6_11e8_a499_f44d30a9ee6arow7_col11\" class=\"data row7 col11\" >1990</td> \n",
       "    </tr>    <tr> \n",
       "        <th id=\"T_dc47c81e_4ed6_11e8_a499_f44d30a9ee6a\" class=\"row_heading level0 row8\" >16</th> \n",
       "        <td id=\"T_dc47c81e_4ed6_11e8_a499_f44d30a9ee6arow8_col0\" class=\"data row8 col0\" >4113</td> \n",
       "        <td id=\"T_dc47c81e_4ed6_11e8_a499_f44d30a9ee6arow8_col1\" class=\"data row8 col1\" >5889</td> \n",
       "        <td id=\"T_dc47c81e_4ed6_11e8_a499_f44d30a9ee6arow8_col2\" class=\"data row8 col2\" >7351</td> \n",
       "        <td id=\"T_dc47c81e_4ed6_11e8_a499_f44d30a9ee6arow8_col3\" class=\"data row8 col3\" >7643</td> \n",
       "        <td id=\"T_dc47c81e_4ed6_11e8_a499_f44d30a9ee6arow8_col4\" class=\"data row8 col4\" >7926</td> \n",
       "        <td id=\"T_dc47c81e_4ed6_11e8_a499_f44d30a9ee6arow8_col5\" class=\"data row8 col5\" >6338</td> \n",
       "        <td id=\"T_dc47c81e_4ed6_11e8_a499_f44d30a9ee6arow8_col6\" class=\"data row8 col6\" >2714</td> \n",
       "        <td id=\"T_dc47c81e_4ed6_11e8_a499_f44d30a9ee6arow8_col7\" class=\"data row8 col7\" >2562</td> \n",
       "        <td id=\"T_dc47c81e_4ed6_11e8_a499_f44d30a9ee6arow8_col8\" class=\"data row8 col8\" >3002</td> \n",
       "        <td id=\"T_dc47c81e_4ed6_11e8_a499_f44d30a9ee6arow8_col9\" class=\"data row8 col9\" >3160</td> \n",
       "        <td id=\"T_dc47c81e_4ed6_11e8_a499_f44d30a9ee6arow8_col10\" class=\"data row8 col10\" >3527</td> \n",
       "        <td id=\"T_dc47c81e_4ed6_11e8_a499_f44d30a9ee6arow8_col11\" class=\"data row8 col11\" >2784</td> \n",
       "    </tr>    <tr> \n",
       "        <th id=\"T_dc47c81e_4ed6_11e8_a499_f44d30a9ee6a\" class=\"row_heading level0 row9\" >18</th> \n",
       "        <td id=\"T_dc47c81e_4ed6_11e8_a499_f44d30a9ee6arow9_col0\" class=\"data row9 col0\" >3660</td> \n",
       "        <td id=\"T_dc47c81e_4ed6_11e8_a499_f44d30a9ee6arow9_col1\" class=\"data row9 col1\" >5094</td> \n",
       "        <td id=\"T_dc47c81e_4ed6_11e8_a499_f44d30a9ee6arow9_col2\" class=\"data row9 col2\" >6586</td> \n",
       "        <td id=\"T_dc47c81e_4ed6_11e8_a499_f44d30a9ee6arow9_col3\" class=\"data row9 col3\" >7015</td> \n",
       "        <td id=\"T_dc47c81e_4ed6_11e8_a499_f44d30a9ee6arow9_col4\" class=\"data row9 col4\" >7407</td> \n",
       "        <td id=\"T_dc47c81e_4ed6_11e8_a499_f44d30a9ee6arow9_col5\" class=\"data row9 col5\" >6157</td> \n",
       "        <td id=\"T_dc47c81e_4ed6_11e8_a499_f44d30a9ee6arow9_col6\" class=\"data row9 col6\" >3118</td> \n",
       "        <td id=\"T_dc47c81e_4ed6_11e8_a499_f44d30a9ee6arow9_col7\" class=\"data row9 col7\" >2704</td> \n",
       "        <td id=\"T_dc47c81e_4ed6_11e8_a499_f44d30a9ee6arow9_col8\" class=\"data row9 col8\" >3217</td> \n",
       "        <td id=\"T_dc47c81e_4ed6_11e8_a499_f44d30a9ee6arow9_col9\" class=\"data row9 col9\" >3412</td> \n",
       "        <td id=\"T_dc47c81e_4ed6_11e8_a499_f44d30a9ee6arow9_col10\" class=\"data row9 col10\" >3608</td> \n",
       "        <td id=\"T_dc47c81e_4ed6_11e8_a499_f44d30a9ee6arow9_col11\" class=\"data row9 col11\" >2718</td> \n",
       "    </tr>    <tr> \n",
       "        <th id=\"T_dc47c81e_4ed6_11e8_a499_f44d30a9ee6a\" class=\"row_heading level0 row10\" >20</th> \n",
       "        <td id=\"T_dc47c81e_4ed6_11e8_a499_f44d30a9ee6arow10_col0\" class=\"data row10 col0\" >3521</td> \n",
       "        <td id=\"T_dc47c81e_4ed6_11e8_a499_f44d30a9ee6arow10_col1\" class=\"data row10 col1\" >4895</td> \n",
       "        <td id=\"T_dc47c81e_4ed6_11e8_a499_f44d30a9ee6arow10_col2\" class=\"data row10 col2\" >6130</td> \n",
       "        <td id=\"T_dc47c81e_4ed6_11e8_a499_f44d30a9ee6arow10_col3\" class=\"data row10 col3\" >6360</td> \n",
       "        <td id=\"T_dc47c81e_4ed6_11e8_a499_f44d30a9ee6arow10_col4\" class=\"data row10 col4\" >6963</td> \n",
       "        <td id=\"T_dc47c81e_4ed6_11e8_a499_f44d30a9ee6arow10_col5\" class=\"data row10 col5\" >5272</td> \n",
       "        <td id=\"T_dc47c81e_4ed6_11e8_a499_f44d30a9ee6arow10_col6\" class=\"data row10 col6\" >1787</td> \n",
       "        <td id=\"T_dc47c81e_4ed6_11e8_a499_f44d30a9ee6arow10_col7\" class=\"data row10 col7\" >1806</td> \n",
       "        <td id=\"T_dc47c81e_4ed6_11e8_a499_f44d30a9ee6arow10_col8\" class=\"data row10 col8\" >1994</td> \n",
       "        <td id=\"T_dc47c81e_4ed6_11e8_a499_f44d30a9ee6arow10_col9\" class=\"data row10 col9\" >2071</td> \n",
       "        <td id=\"T_dc47c81e_4ed6_11e8_a499_f44d30a9ee6arow10_col10\" class=\"data row10 col10\" >2184</td> \n",
       "        <td id=\"T_dc47c81e_4ed6_11e8_a499_f44d30a9ee6arow10_col11\" class=\"data row10 col11\" >1491</td> \n",
       "    </tr>    <tr> \n",
       "        <th id=\"T_dc47c81e_4ed6_11e8_a499_f44d30a9ee6a\" class=\"row_heading level0 row11\" >22</th> \n",
       "        <td id=\"T_dc47c81e_4ed6_11e8_a499_f44d30a9ee6arow11_col0\" class=\"data row11 col0\" >3078</td> \n",
       "        <td id=\"T_dc47c81e_4ed6_11e8_a499_f44d30a9ee6arow11_col1\" class=\"data row11 col1\" >4318</td> \n",
       "        <td id=\"T_dc47c81e_4ed6_11e8_a499_f44d30a9ee6arow11_col2\" class=\"data row11 col2\" >5496</td> \n",
       "        <td id=\"T_dc47c81e_4ed6_11e8_a499_f44d30a9ee6arow11_col3\" class=\"data row11 col3\" >5626</td> \n",
       "        <td id=\"T_dc47c81e_4ed6_11e8_a499_f44d30a9ee6arow11_col4\" class=\"data row11 col4\" >5637</td> \n",
       "        <td id=\"T_dc47c81e_4ed6_11e8_a499_f44d30a9ee6arow11_col5\" class=\"data row11 col5\" >4358</td> \n",
       "        <td id=\"T_dc47c81e_4ed6_11e8_a499_f44d30a9ee6arow11_col6\" class=\"data row11 col6\" >1343</td> \n",
       "        <td id=\"T_dc47c81e_4ed6_11e8_a499_f44d30a9ee6arow11_col7\" class=\"data row11 col7\" >1330</td> \n",
       "        <td id=\"T_dc47c81e_4ed6_11e8_a499_f44d30a9ee6arow11_col8\" class=\"data row11 col8\" >1532</td> \n",
       "        <td id=\"T_dc47c81e_4ed6_11e8_a499_f44d30a9ee6arow11_col9\" class=\"data row11 col9\" >1671</td> \n",
       "        <td id=\"T_dc47c81e_4ed6_11e8_a499_f44d30a9ee6arow11_col10\" class=\"data row11 col10\" >1472</td> \n",
       "        <td id=\"T_dc47c81e_4ed6_11e8_a499_f44d30a9ee6arow11_col11\" class=\"data row11 col11\" >1072</td> \n",
       "    </tr></tbody> \n",
       "</table> "
      ],
      "text/plain": [
       "<pandas.io.formats.style.Styler at 0xad9a160>"
      ]
     },
     "execution_count": 32,
     "metadata": {},
     "output_type": "execute_result"
    }
   ],
   "source": [
    "funcs = [lambda x: x.round('2h').hour, lambda x: x.year]\n",
    "cr_group = crime_sort.groupby(funcs)['IS_CRIME', 'IS_TRAFFIC'].sum()\n",
    "cr_final = cr_group.unstack()\n",
    "cr_final.style.highlight_max(color='lightgrey')"
   ]
  },
  {
   "cell_type": "markdown",
   "metadata": {},
   "source": [
    "### Grouping by a Timestamp and another column"
   ]
  },
  {
   "cell_type": "code",
   "execution_count": 33,
   "metadata": {},
   "outputs": [
    {
     "data": {
      "text/html": [
       "<div>\n",
       "<style>\n",
       "    .dataframe thead tr:only-child th {\n",
       "        text-align: right;\n",
       "    }\n",
       "\n",
       "    .dataframe thead th {\n",
       "        text-align: left;\n",
       "    }\n",
       "\n",
       "    .dataframe tbody tr th {\n",
       "        vertical-align: top;\n",
       "    }\n",
       "</style>\n",
       "<table border=\"1\" class=\"dataframe\">\n",
       "  <thead>\n",
       "    <tr style=\"text-align: right;\">\n",
       "      <th></th>\n",
       "      <th>UNIQUE_ID</th>\n",
       "      <th>POSITION_TITLE</th>\n",
       "      <th>DEPARTMENT</th>\n",
       "      <th>BASE_SALARY</th>\n",
       "      <th>RACE</th>\n",
       "      <th>EMPLOYMENT_TYPE</th>\n",
       "      <th>GENDER</th>\n",
       "      <th>EMPLOYMENT_STATUS</th>\n",
       "      <th>JOB_DATE</th>\n",
       "    </tr>\n",
       "    <tr>\n",
       "      <th>HIRE_DATE</th>\n",
       "      <th></th>\n",
       "      <th></th>\n",
       "      <th></th>\n",
       "      <th></th>\n",
       "      <th></th>\n",
       "      <th></th>\n",
       "      <th></th>\n",
       "      <th></th>\n",
       "      <th></th>\n",
       "    </tr>\n",
       "  </thead>\n",
       "  <tbody>\n",
       "    <tr>\n",
       "      <th>2006-06-12</th>\n",
       "      <td>0</td>\n",
       "      <td>ASSISTANT DIRECTOR (EX LVL)</td>\n",
       "      <td>Municipal Courts Department</td>\n",
       "      <td>121862.0</td>\n",
       "      <td>Hispanic/Latino</td>\n",
       "      <td>Full Time</td>\n",
       "      <td>Female</td>\n",
       "      <td>Active</td>\n",
       "      <td>2012-10-13</td>\n",
       "    </tr>\n",
       "    <tr>\n",
       "      <th>2000-07-19</th>\n",
       "      <td>1</td>\n",
       "      <td>LIBRARY ASSISTANT</td>\n",
       "      <td>Library</td>\n",
       "      <td>26125.0</td>\n",
       "      <td>Hispanic/Latino</td>\n",
       "      <td>Full Time</td>\n",
       "      <td>Female</td>\n",
       "      <td>Active</td>\n",
       "      <td>2010-09-18</td>\n",
       "    </tr>\n",
       "    <tr>\n",
       "      <th>2015-02-03</th>\n",
       "      <td>2</td>\n",
       "      <td>POLICE OFFICER</td>\n",
       "      <td>Houston Police Department-HPD</td>\n",
       "      <td>45279.0</td>\n",
       "      <td>White</td>\n",
       "      <td>Full Time</td>\n",
       "      <td>Male</td>\n",
       "      <td>Active</td>\n",
       "      <td>2015-02-03</td>\n",
       "    </tr>\n",
       "    <tr>\n",
       "      <th>1982-02-08</th>\n",
       "      <td>3</td>\n",
       "      <td>ENGINEER/OPERATOR</td>\n",
       "      <td>Houston Fire Department (HFD)</td>\n",
       "      <td>63166.0</td>\n",
       "      <td>White</td>\n",
       "      <td>Full Time</td>\n",
       "      <td>Male</td>\n",
       "      <td>Active</td>\n",
       "      <td>1991-05-25</td>\n",
       "    </tr>\n",
       "    <tr>\n",
       "      <th>1989-06-19</th>\n",
       "      <td>4</td>\n",
       "      <td>ELECTRICIAN</td>\n",
       "      <td>General Services Department</td>\n",
       "      <td>56347.0</td>\n",
       "      <td>White</td>\n",
       "      <td>Full Time</td>\n",
       "      <td>Male</td>\n",
       "      <td>Active</td>\n",
       "      <td>1994-10-22</td>\n",
       "    </tr>\n",
       "  </tbody>\n",
       "</table>\n",
       "</div>"
      ],
      "text/plain": [
       "            UNIQUE_ID               POSITION_TITLE  \\\n",
       "HIRE_DATE                                            \n",
       "2006-06-12          0  ASSISTANT DIRECTOR (EX LVL)   \n",
       "2000-07-19          1            LIBRARY ASSISTANT   \n",
       "2015-02-03          2               POLICE OFFICER   \n",
       "1982-02-08          3            ENGINEER/OPERATOR   \n",
       "1989-06-19          4                  ELECTRICIAN   \n",
       "\n",
       "                               DEPARTMENT  BASE_SALARY             RACE  \\\n",
       "HIRE_DATE                                                                 \n",
       "2006-06-12    Municipal Courts Department     121862.0  Hispanic/Latino   \n",
       "2000-07-19                        Library      26125.0  Hispanic/Latino   \n",
       "2015-02-03  Houston Police Department-HPD      45279.0            White   \n",
       "1982-02-08  Houston Fire Department (HFD)      63166.0            White   \n",
       "1989-06-19    General Services Department      56347.0            White   \n",
       "\n",
       "           EMPLOYMENT_TYPE  GENDER EMPLOYMENT_STATUS   JOB_DATE  \n",
       "HIRE_DATE                                                        \n",
       "2006-06-12       Full Time  Female            Active 2012-10-13  \n",
       "2000-07-19       Full Time  Female            Active 2010-09-18  \n",
       "2015-02-03       Full Time    Male            Active 2015-02-03  \n",
       "1982-02-08       Full Time    Male            Active 1991-05-25  \n",
       "1989-06-19       Full Time    Male            Active 1994-10-22  "
      ]
     },
     "execution_count": 33,
     "metadata": {},
     "output_type": "execute_result"
    }
   ],
   "source": [
    "employee = pd.read_csv('data/employee.csv', \n",
    "                       parse_dates=['JOB_DATE', 'HIRE_DATE'], \n",
    "                       index_col='HIRE_DATE')\n",
    "employee.head()"
   ]
  },
  {
   "cell_type": "code",
   "execution_count": 34,
   "metadata": {},
   "outputs": [
    {
     "data": {
      "text/plain": [
       "GENDER\n",
       "Female    52200.0\n",
       "Male      57400.0\n",
       "Name: BASE_SALARY, dtype: float64"
      ]
     },
     "execution_count": 34,
     "metadata": {},
     "output_type": "execute_result"
    }
   ],
   "source": [
    "employee.groupby('GENDER')['BASE_SALARY'].mean().round(-2)"
   ]
  },
  {
   "cell_type": "code",
   "execution_count": 35,
   "metadata": {},
   "outputs": [
    {
     "data": {
      "text/plain": [
       "HIRE_DATE\n",
       "1958-01-01     81200.0\n",
       "1968-01-01    106500.0\n",
       "1978-01-01     69600.0\n",
       "1988-01-01     62300.0\n",
       "1998-01-01     58200.0\n",
       "2008-01-01     47200.0\n",
       "Freq: 10AS-JAN, Name: BASE_SALARY, dtype: float64"
      ]
     },
     "execution_count": 35,
     "metadata": {},
     "output_type": "execute_result"
    }
   ],
   "source": [
    "employee.resample('10AS')['BASE_SALARY'].mean().round(-2)"
   ]
  },
  {
   "cell_type": "code",
   "execution_count": 36,
   "metadata": {},
   "outputs": [
    {
     "data": {
      "text/plain": [
       "True"
      ]
     },
     "execution_count": 36,
     "metadata": {},
     "output_type": "execute_result"
    }
   ],
   "source": [
    "'resample' in dir(employee.groupby('GENDER'))"
   ]
  },
  {
   "cell_type": "code",
   "execution_count": 37,
   "metadata": {},
   "outputs": [
    {
     "data": {
      "text/plain": [
       "False"
      ]
     },
     "execution_count": 37,
     "metadata": {},
     "output_type": "execute_result"
    }
   ],
   "source": [
    "'groupby' in dir(employee.resample('10AS'))"
   ]
  },
  {
   "cell_type": "code",
   "execution_count": 38,
   "metadata": {},
   "outputs": [
    {
     "data": {
      "text/plain": [
       "GENDER  HIRE_DATE \n",
       "Female  1975-01-01     51600.0\n",
       "        1985-01-01     57600.0\n",
       "        1995-01-01     55500.0\n",
       "        2005-01-01     51700.0\n",
       "        2015-01-01     38600.0\n",
       "Male    1958-01-01     81200.0\n",
       "        1968-01-01    106500.0\n",
       "        1978-01-01     72300.0\n",
       "        1988-01-01     64600.0\n",
       "        1998-01-01     59700.0\n",
       "        2008-01-01     47200.0\n",
       "Name: BASE_SALARY, dtype: float64"
      ]
     },
     "execution_count": 38,
     "metadata": {},
     "output_type": "execute_result"
    }
   ],
   "source": [
    "sal_avg = employee.groupby('GENDER').resample('10AS')['BASE_SALARY'].mean().round(-2)\n",
    "sal_avg"
   ]
  },
  {
   "cell_type": "code",
   "execution_count": 39,
   "metadata": {},
   "outputs": [
    {
     "data": {
      "text/html": [
       "<div>\n",
       "<style>\n",
       "    .dataframe thead tr:only-child th {\n",
       "        text-align: right;\n",
       "    }\n",
       "\n",
       "    .dataframe thead th {\n",
       "        text-align: left;\n",
       "    }\n",
       "\n",
       "    .dataframe tbody tr th {\n",
       "        vertical-align: top;\n",
       "    }\n",
       "</style>\n",
       "<table border=\"1\" class=\"dataframe\">\n",
       "  <thead>\n",
       "    <tr style=\"text-align: right;\">\n",
       "      <th>GENDER</th>\n",
       "      <th>Female</th>\n",
       "      <th>Male</th>\n",
       "    </tr>\n",
       "    <tr>\n",
       "      <th>HIRE_DATE</th>\n",
       "      <th></th>\n",
       "      <th></th>\n",
       "    </tr>\n",
       "  </thead>\n",
       "  <tbody>\n",
       "    <tr>\n",
       "      <th>1958-01-01</th>\n",
       "      <td>NaN</td>\n",
       "      <td>81200.0</td>\n",
       "    </tr>\n",
       "    <tr>\n",
       "      <th>1968-01-01</th>\n",
       "      <td>NaN</td>\n",
       "      <td>106500.0</td>\n",
       "    </tr>\n",
       "    <tr>\n",
       "      <th>1975-01-01</th>\n",
       "      <td>51600.0</td>\n",
       "      <td>NaN</td>\n",
       "    </tr>\n",
       "    <tr>\n",
       "      <th>1978-01-01</th>\n",
       "      <td>NaN</td>\n",
       "      <td>72300.0</td>\n",
       "    </tr>\n",
       "    <tr>\n",
       "      <th>1985-01-01</th>\n",
       "      <td>57600.0</td>\n",
       "      <td>NaN</td>\n",
       "    </tr>\n",
       "    <tr>\n",
       "      <th>1988-01-01</th>\n",
       "      <td>NaN</td>\n",
       "      <td>64600.0</td>\n",
       "    </tr>\n",
       "    <tr>\n",
       "      <th>1995-01-01</th>\n",
       "      <td>55500.0</td>\n",
       "      <td>NaN</td>\n",
       "    </tr>\n",
       "    <tr>\n",
       "      <th>1998-01-01</th>\n",
       "      <td>NaN</td>\n",
       "      <td>59700.0</td>\n",
       "    </tr>\n",
       "    <tr>\n",
       "      <th>2005-01-01</th>\n",
       "      <td>51700.0</td>\n",
       "      <td>NaN</td>\n",
       "    </tr>\n",
       "    <tr>\n",
       "      <th>2008-01-01</th>\n",
       "      <td>NaN</td>\n",
       "      <td>47200.0</td>\n",
       "    </tr>\n",
       "    <tr>\n",
       "      <th>2015-01-01</th>\n",
       "      <td>38600.0</td>\n",
       "      <td>NaN</td>\n",
       "    </tr>\n",
       "  </tbody>\n",
       "</table>\n",
       "</div>"
      ],
      "text/plain": [
       "GENDER       Female      Male\n",
       "HIRE_DATE                    \n",
       "1958-01-01      NaN   81200.0\n",
       "1968-01-01      NaN  106500.0\n",
       "1975-01-01  51600.0       NaN\n",
       "1978-01-01      NaN   72300.0\n",
       "1985-01-01  57600.0       NaN\n",
       "1988-01-01      NaN   64600.0\n",
       "1995-01-01  55500.0       NaN\n",
       "1998-01-01      NaN   59700.0\n",
       "2005-01-01  51700.0       NaN\n",
       "2008-01-01      NaN   47200.0\n",
       "2015-01-01  38600.0       NaN"
      ]
     },
     "execution_count": 39,
     "metadata": {},
     "output_type": "execute_result"
    }
   ],
   "source": [
    "sal_avg.unstack('GENDER')"
   ]
  },
  {
   "cell_type": "code",
   "execution_count": 40,
   "metadata": {},
   "outputs": [
    {
     "data": {
      "text/plain": [
       "Timestamp('1958-12-29 00:00:00')"
      ]
     },
     "execution_count": 40,
     "metadata": {},
     "output_type": "execute_result"
    }
   ],
   "source": [
    "employee[employee['GENDER'] == 'Male'].index.min()"
   ]
  },
  {
   "cell_type": "code",
   "execution_count": 41,
   "metadata": {},
   "outputs": [
    {
     "data": {
      "text/plain": [
       "Timestamp('1975-06-09 00:00:00')"
      ]
     },
     "execution_count": 41,
     "metadata": {},
     "output_type": "execute_result"
    }
   ],
   "source": [
    "employee[employee['GENDER'] == 'Female'].index.min()"
   ]
  },
  {
   "cell_type": "code",
   "execution_count": 42,
   "metadata": {},
   "outputs": [
    {
     "data": {
      "text/plain": [
       "GENDER  HIRE_DATE \n",
       "Female  1968-01-01         NaN\n",
       "        1978-01-01     57100.0\n",
       "        1988-01-01     57100.0\n",
       "        1998-01-01     54700.0\n",
       "        2008-01-01     47300.0\n",
       "Male    1958-01-01     81200.0\n",
       "        1968-01-01    106500.0\n",
       "        1978-01-01     72300.0\n",
       "        1988-01-01     64600.0\n",
       "        1998-01-01     59700.0\n",
       "        2008-01-01     47200.0\n",
       "Name: BASE_SALARY, dtype: float64"
      ]
     },
     "execution_count": 42,
     "metadata": {},
     "output_type": "execute_result"
    }
   ],
   "source": [
    "sal_avg2 = employee.groupby(['GENDER', pd.Grouper(freq='10AS')])['BASE_SALARY'].mean().round(-2)\n",
    "sal_avg2"
   ]
  },
  {
   "cell_type": "code",
   "execution_count": 43,
   "metadata": {},
   "outputs": [
    {
     "data": {
      "text/html": [
       "<div>\n",
       "<style>\n",
       "    .dataframe thead tr:only-child th {\n",
       "        text-align: right;\n",
       "    }\n",
       "\n",
       "    .dataframe thead th {\n",
       "        text-align: left;\n",
       "    }\n",
       "\n",
       "    .dataframe tbody tr th {\n",
       "        vertical-align: top;\n",
       "    }\n",
       "</style>\n",
       "<table border=\"1\" class=\"dataframe\">\n",
       "  <thead>\n",
       "    <tr style=\"text-align: right;\">\n",
       "      <th>GENDER</th>\n",
       "      <th>Female</th>\n",
       "      <th>Male</th>\n",
       "    </tr>\n",
       "    <tr>\n",
       "      <th>HIRE_DATE</th>\n",
       "      <th></th>\n",
       "      <th></th>\n",
       "    </tr>\n",
       "  </thead>\n",
       "  <tbody>\n",
       "    <tr>\n",
       "      <th>1958-01-01</th>\n",
       "      <td>NaN</td>\n",
       "      <td>81200.0</td>\n",
       "    </tr>\n",
       "    <tr>\n",
       "      <th>1968-01-01</th>\n",
       "      <td>NaN</td>\n",
       "      <td>106500.0</td>\n",
       "    </tr>\n",
       "    <tr>\n",
       "      <th>1978-01-01</th>\n",
       "      <td>57100.0</td>\n",
       "      <td>72300.0</td>\n",
       "    </tr>\n",
       "    <tr>\n",
       "      <th>1988-01-01</th>\n",
       "      <td>57100.0</td>\n",
       "      <td>64600.0</td>\n",
       "    </tr>\n",
       "    <tr>\n",
       "      <th>1998-01-01</th>\n",
       "      <td>54700.0</td>\n",
       "      <td>59700.0</td>\n",
       "    </tr>\n",
       "    <tr>\n",
       "      <th>2008-01-01</th>\n",
       "      <td>47300.0</td>\n",
       "      <td>47200.0</td>\n",
       "    </tr>\n",
       "  </tbody>\n",
       "</table>\n",
       "</div>"
      ],
      "text/plain": [
       "GENDER       Female      Male\n",
       "HIRE_DATE                    \n",
       "1958-01-01      NaN   81200.0\n",
       "1968-01-01      NaN  106500.0\n",
       "1978-01-01  57100.0   72300.0\n",
       "1988-01-01  57100.0   64600.0\n",
       "1998-01-01  54700.0   59700.0\n",
       "2008-01-01  47300.0   47200.0"
      ]
     },
     "execution_count": 43,
     "metadata": {},
     "output_type": "execute_result"
    }
   ],
   "source": [
    "sal_final = sal_avg2.unstack('GENDER')\n",
    "sal_final"
   ]
  },
  {
   "cell_type": "markdown",
   "metadata": {},
   "source": [
    "### Finding the last time crime was 20% lower with merge_asof"
   ]
  },
  {
   "cell_type": "code",
   "execution_count": 44,
   "metadata": {},
   "outputs": [],
   "source": [
    "crime_sort = pd.read_hdf('data/crime.h5', 'crime') \\\n",
    "               .set_index('REPORTED_DATE') \\\n",
    "               .sort_index()"
   ]
  },
  {
   "cell_type": "code",
   "execution_count": 45,
   "metadata": {},
   "outputs": [
    {
     "data": {
      "text/plain": [
       "Timestamp('2017-09-29 06:16:00')"
      ]
     },
     "execution_count": 45,
     "metadata": {},
     "output_type": "execute_result"
    }
   ],
   "source": [
    "crime_sort.index.max()"
   ]
  },
  {
   "cell_type": "code",
   "execution_count": 46,
   "metadata": {},
   "outputs": [
    {
     "data": {
      "text/plain": [
       "Timestamp('2017-08-31 23:52:00')"
      ]
     },
     "execution_count": 46,
     "metadata": {},
     "output_type": "execute_result"
    }
   ],
   "source": [
    "crime_sort = crime_sort[:'2017-8']\n",
    "crime_sort.index.max()"
   ]
  },
  {
   "cell_type": "code",
   "execution_count": 47,
   "metadata": {},
   "outputs": [
    {
     "data": {
      "text/plain": [
       "REPORTED_DATE  OFFENSE_CATEGORY_ID\n",
       "2012-01-31     aggravated-assault     113\n",
       "               all-other-crimes       124\n",
       "               arson                    5\n",
       "               auto-theft             275\n",
       "               burglary               343\n",
       "dtype: int64"
      ]
     },
     "execution_count": 47,
     "metadata": {},
     "output_type": "execute_result"
    }
   ],
   "source": [
    "all_data = crime_sort.groupby([pd.Grouper(freq='M'), 'OFFENSE_CATEGORY_ID']).size()\n",
    "all_data.head()"
   ]
  },
  {
   "cell_type": "code",
   "execution_count": 48,
   "metadata": {},
   "outputs": [
    {
     "data": {
      "text/html": [
       "<div>\n",
       "<style>\n",
       "    .dataframe thead tr:only-child th {\n",
       "        text-align: right;\n",
       "    }\n",
       "\n",
       "    .dataframe thead th {\n",
       "        text-align: left;\n",
       "    }\n",
       "\n",
       "    .dataframe tbody tr th {\n",
       "        vertical-align: top;\n",
       "    }\n",
       "</style>\n",
       "<table border=\"1\" class=\"dataframe\">\n",
       "  <thead>\n",
       "    <tr style=\"text-align: right;\">\n",
       "      <th></th>\n",
       "      <th>REPORTED_DATE</th>\n",
       "      <th>OFFENSE_CATEGORY_ID</th>\n",
       "      <th>Total</th>\n",
       "    </tr>\n",
       "  </thead>\n",
       "  <tbody>\n",
       "    <tr>\n",
       "      <th>0</th>\n",
       "      <td>2014-12-31</td>\n",
       "      <td>murder</td>\n",
       "      <td>1</td>\n",
       "    </tr>\n",
       "    <tr>\n",
       "      <th>1</th>\n",
       "      <td>2013-01-31</td>\n",
       "      <td>arson</td>\n",
       "      <td>1</td>\n",
       "    </tr>\n",
       "    <tr>\n",
       "      <th>2</th>\n",
       "      <td>2016-05-31</td>\n",
       "      <td>murder</td>\n",
       "      <td>1</td>\n",
       "    </tr>\n",
       "    <tr>\n",
       "      <th>3</th>\n",
       "      <td>2012-12-31</td>\n",
       "      <td>murder</td>\n",
       "      <td>1</td>\n",
       "    </tr>\n",
       "    <tr>\n",
       "      <th>4</th>\n",
       "      <td>2016-12-31</td>\n",
       "      <td>murder</td>\n",
       "      <td>1</td>\n",
       "    </tr>\n",
       "  </tbody>\n",
       "</table>\n",
       "</div>"
      ],
      "text/plain": [
       "  REPORTED_DATE OFFENSE_CATEGORY_ID  Total\n",
       "0    2014-12-31              murder      1\n",
       "1    2013-01-31               arson      1\n",
       "2    2016-05-31              murder      1\n",
       "3    2012-12-31              murder      1\n",
       "4    2016-12-31              murder      1"
      ]
     },
     "execution_count": 48,
     "metadata": {},
     "output_type": "execute_result"
    }
   ],
   "source": [
    "all_data = all_data.sort_values().reset_index(name='Total')\n",
    "all_data.head()"
   ]
  },
  {
   "cell_type": "code",
   "execution_count": 51,
   "metadata": {},
   "outputs": [
    {
     "data": {
      "text/html": [
       "<div>\n",
       "<style>\n",
       "    .dataframe thead tr:only-child th {\n",
       "        text-align: right;\n",
       "    }\n",
       "\n",
       "    .dataframe thead th {\n",
       "        text-align: left;\n",
       "    }\n",
       "\n",
       "    .dataframe tbody tr th {\n",
       "        vertical-align: top;\n",
       "    }\n",
       "</style>\n",
       "<table border=\"1\" class=\"dataframe\">\n",
       "  <thead>\n",
       "    <tr style=\"text-align: right;\">\n",
       "      <th></th>\n",
       "      <th>REPORTED_DATE</th>\n",
       "      <th>OFFENSE_CATEGORY_ID</th>\n",
       "      <th>Total</th>\n",
       "      <th>Total_Goal</th>\n",
       "    </tr>\n",
       "  </thead>\n",
       "  <tbody>\n",
       "    <tr>\n",
       "      <th>0</th>\n",
       "      <td>2017-08-31</td>\n",
       "      <td>murder</td>\n",
       "      <td>7</td>\n",
       "      <td>5</td>\n",
       "    </tr>\n",
       "    <tr>\n",
       "      <th>1</th>\n",
       "      <td>2017-08-31</td>\n",
       "      <td>arson</td>\n",
       "      <td>7</td>\n",
       "      <td>5</td>\n",
       "    </tr>\n",
       "    <tr>\n",
       "      <th>2</th>\n",
       "      <td>2017-08-31</td>\n",
       "      <td>sexual-assault</td>\n",
       "      <td>57</td>\n",
       "      <td>45</td>\n",
       "    </tr>\n",
       "    <tr>\n",
       "      <th>3</th>\n",
       "      <td>2017-08-31</td>\n",
       "      <td>robbery</td>\n",
       "      <td>108</td>\n",
       "      <td>86</td>\n",
       "    </tr>\n",
       "    <tr>\n",
       "      <th>4</th>\n",
       "      <td>2017-08-31</td>\n",
       "      <td>white-collar-crime</td>\n",
       "      <td>138</td>\n",
       "      <td>110</td>\n",
       "    </tr>\n",
       "  </tbody>\n",
       "</table>\n",
       "</div>"
      ],
      "text/plain": [
       "  REPORTED_DATE OFFENSE_CATEGORY_ID  Total  Total_Goal\n",
       "0    2017-08-31              murder      7           5\n",
       "1    2017-08-31               arson      7           5\n",
       "2    2017-08-31      sexual-assault     57          45\n",
       "3    2017-08-31             robbery    108          86\n",
       "4    2017-08-31  white-collar-crime    138         110"
      ]
     },
     "execution_count": 51,
     "metadata": {},
     "output_type": "execute_result"
    }
   ],
   "source": [
    "goal = all_data[all_data['REPORTED_DATE'] == '2017-8-31'].reset_index(drop=True)\n",
    "goal['Total_Goal'] = goal['Total'].mul(.8).astype(int)\n",
    "goal.head()"
   ]
  },
  {
   "cell_type": "code",
   "execution_count": 53,
   "metadata": {},
   "outputs": [],
   "source": [
    "# if the data types of the merge keys are not same,\n",
    "# it will produce a merge error,thus changed the dtype of Total_Goal to int64\n",
    "\n",
    "goal['Total_Goal'] = goal['Total_Goal'].astype(np.int64)"
   ]
  },
  {
   "cell_type": "code",
   "execution_count": 54,
   "metadata": {},
   "outputs": [
    {
     "data": {
      "text/html": [
       "<div>\n",
       "<style>\n",
       "    .dataframe thead tr:only-child th {\n",
       "        text-align: right;\n",
       "    }\n",
       "\n",
       "    .dataframe thead th {\n",
       "        text-align: left;\n",
       "    }\n",
       "\n",
       "    .dataframe tbody tr th {\n",
       "        vertical-align: top;\n",
       "    }\n",
       "</style>\n",
       "<table border=\"1\" class=\"dataframe\">\n",
       "  <thead>\n",
       "    <tr style=\"text-align: right;\">\n",
       "      <th></th>\n",
       "      <th>REPORTED_DATE_Current</th>\n",
       "      <th>OFFENSE_CATEGORY_ID</th>\n",
       "      <th>Total_Current</th>\n",
       "      <th>Total_Goal</th>\n",
       "      <th>REPORTED_DATE_Last</th>\n",
       "      <th>Total_Last</th>\n",
       "    </tr>\n",
       "  </thead>\n",
       "  <tbody>\n",
       "    <tr>\n",
       "      <th>0</th>\n",
       "      <td>2017-08-31</td>\n",
       "      <td>murder</td>\n",
       "      <td>7</td>\n",
       "      <td>5</td>\n",
       "      <td>2017-01-31</td>\n",
       "      <td>5</td>\n",
       "    </tr>\n",
       "    <tr>\n",
       "      <th>1</th>\n",
       "      <td>2017-08-31</td>\n",
       "      <td>arson</td>\n",
       "      <td>7</td>\n",
       "      <td>5</td>\n",
       "      <td>2012-01-31</td>\n",
       "      <td>5</td>\n",
       "    </tr>\n",
       "    <tr>\n",
       "      <th>2</th>\n",
       "      <td>2017-08-31</td>\n",
       "      <td>sexual-assault</td>\n",
       "      <td>57</td>\n",
       "      <td>45</td>\n",
       "      <td>2013-01-31</td>\n",
       "      <td>45</td>\n",
       "    </tr>\n",
       "    <tr>\n",
       "      <th>3</th>\n",
       "      <td>2017-08-31</td>\n",
       "      <td>robbery</td>\n",
       "      <td>108</td>\n",
       "      <td>86</td>\n",
       "      <td>2015-03-31</td>\n",
       "      <td>86</td>\n",
       "    </tr>\n",
       "    <tr>\n",
       "      <th>4</th>\n",
       "      <td>2017-08-31</td>\n",
       "      <td>white-collar-crime</td>\n",
       "      <td>138</td>\n",
       "      <td>110</td>\n",
       "      <td>2016-10-31</td>\n",
       "      <td>110</td>\n",
       "    </tr>\n",
       "    <tr>\n",
       "      <th>5</th>\n",
       "      <td>2017-08-31</td>\n",
       "      <td>aggravated-assault</td>\n",
       "      <td>195</td>\n",
       "      <td>156</td>\n",
       "      <td>2016-05-31</td>\n",
       "      <td>154</td>\n",
       "    </tr>\n",
       "    <tr>\n",
       "      <th>6</th>\n",
       "      <td>2017-08-31</td>\n",
       "      <td>other-crimes-against-persons</td>\n",
       "      <td>376</td>\n",
       "      <td>300</td>\n",
       "      <td>2014-04-30</td>\n",
       "      <td>285</td>\n",
       "    </tr>\n",
       "    <tr>\n",
       "      <th>7</th>\n",
       "      <td>2017-08-31</td>\n",
       "      <td>burglary</td>\n",
       "      <td>432</td>\n",
       "      <td>345</td>\n",
       "      <td>2012-01-31</td>\n",
       "      <td>343</td>\n",
       "    </tr>\n",
       "    <tr>\n",
       "      <th>8</th>\n",
       "      <td>2017-08-31</td>\n",
       "      <td>auto-theft</td>\n",
       "      <td>599</td>\n",
       "      <td>479</td>\n",
       "      <td>2017-07-31</td>\n",
       "      <td>477</td>\n",
       "    </tr>\n",
       "    <tr>\n",
       "      <th>9</th>\n",
       "      <td>2017-08-31</td>\n",
       "      <td>drug-alcohol</td>\n",
       "      <td>636</td>\n",
       "      <td>508</td>\n",
       "      <td>2015-05-31</td>\n",
       "      <td>505</td>\n",
       "    </tr>\n",
       "    <tr>\n",
       "      <th>10</th>\n",
       "      <td>2017-08-31</td>\n",
       "      <td>theft-from-motor-vehicle</td>\n",
       "      <td>675</td>\n",
       "      <td>540</td>\n",
       "      <td>2015-03-31</td>\n",
       "      <td>535</td>\n",
       "    </tr>\n",
       "    <tr>\n",
       "      <th>11</th>\n",
       "      <td>2017-08-31</td>\n",
       "      <td>larceny</td>\n",
       "      <td>877</td>\n",
       "      <td>701</td>\n",
       "      <td>2015-01-31</td>\n",
       "      <td>697</td>\n",
       "    </tr>\n",
       "    <tr>\n",
       "      <th>12</th>\n",
       "      <td>2017-08-31</td>\n",
       "      <td>public-disorder</td>\n",
       "      <td>878</td>\n",
       "      <td>702</td>\n",
       "      <td>2015-12-31</td>\n",
       "      <td>699</td>\n",
       "    </tr>\n",
       "    <tr>\n",
       "      <th>13</th>\n",
       "      <td>2017-08-31</td>\n",
       "      <td>all-other-crimes</td>\n",
       "      <td>1583</td>\n",
       "      <td>1266</td>\n",
       "      <td>2016-11-30</td>\n",
       "      <td>1264</td>\n",
       "    </tr>\n",
       "    <tr>\n",
       "      <th>14</th>\n",
       "      <td>2017-08-31</td>\n",
       "      <td>traffic-accident</td>\n",
       "      <td>2126</td>\n",
       "      <td>1700</td>\n",
       "      <td>2013-12-31</td>\n",
       "      <td>1697</td>\n",
       "    </tr>\n",
       "  </tbody>\n",
       "</table>\n",
       "</div>"
      ],
      "text/plain": [
       "   REPORTED_DATE_Current           OFFENSE_CATEGORY_ID  Total_Current  \\\n",
       "0             2017-08-31                        murder              7   \n",
       "1             2017-08-31                         arson              7   \n",
       "2             2017-08-31                sexual-assault             57   \n",
       "3             2017-08-31                       robbery            108   \n",
       "4             2017-08-31            white-collar-crime            138   \n",
       "5             2017-08-31            aggravated-assault            195   \n",
       "6             2017-08-31  other-crimes-against-persons            376   \n",
       "7             2017-08-31                      burglary            432   \n",
       "8             2017-08-31                    auto-theft            599   \n",
       "9             2017-08-31                  drug-alcohol            636   \n",
       "10            2017-08-31      theft-from-motor-vehicle            675   \n",
       "11            2017-08-31                       larceny            877   \n",
       "12            2017-08-31               public-disorder            878   \n",
       "13            2017-08-31              all-other-crimes           1583   \n",
       "14            2017-08-31              traffic-accident           2126   \n",
       "\n",
       "    Total_Goal REPORTED_DATE_Last  Total_Last  \n",
       "0            5         2017-01-31           5  \n",
       "1            5         2012-01-31           5  \n",
       "2           45         2013-01-31          45  \n",
       "3           86         2015-03-31          86  \n",
       "4          110         2016-10-31         110  \n",
       "5          156         2016-05-31         154  \n",
       "6          300         2014-04-30         285  \n",
       "7          345         2012-01-31         343  \n",
       "8          479         2017-07-31         477  \n",
       "9          508         2015-05-31         505  \n",
       "10         540         2015-03-31         535  \n",
       "11         701         2015-01-31         697  \n",
       "12         702         2015-12-31         699  \n",
       "13        1266         2016-11-30        1264  \n",
       "14        1700         2013-12-31        1697  "
      ]
     },
     "execution_count": 54,
     "metadata": {},
     "output_type": "execute_result"
    }
   ],
   "source": [
    "pd.merge_asof(goal, all_data, left_on='Total_Goal', right_on='Total', \n",
    "              by='OFFENSE_CATEGORY_ID', suffixes=('_Current', '_Last'))"
   ]
  }
 ],
 "metadata": {
  "kernelspec": {
   "display_name": "Python 3",
   "language": "python",
   "name": "python3"
  },
  "language_info": {
   "codemirror_mode": {
    "name": "ipython",
    "version": 3
   },
   "file_extension": ".py",
   "mimetype": "text/x-python",
   "name": "python",
   "nbconvert_exporter": "python",
   "pygments_lexer": "ipython3",
   "version": "3.6.5"
  }
 },
 "nbformat": 4,
 "nbformat_minor": 2
}
